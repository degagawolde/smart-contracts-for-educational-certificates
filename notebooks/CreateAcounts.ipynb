{
 "cells": [
  {
   "cell_type": "code",
   "execution_count": 14,
   "metadata": {},
   "outputs": [],
   "source": [
    "import json\n",
    "import hashlib\n",
    "import time\n",
    "import os\n",
    "from algosdk import account, mnemonic\n",
    "from algosdk.v2client import algod\n",
    "from algosdk.future.transaction import AssetConfigTxn, wait_for_confirmation\n",
    "from algosdk.future.transaction import PaymentTxn, wait_for_confirmation"
   ]
  },
  {
   "cell_type": "code",
   "execution_count": 2,
   "metadata": {},
   "outputs": [],
   "source": [
    "import sys\n",
    "sys.path.append('../scripts')\n",
    "from create_account import create_account\n",
    "from closeout_account import closeout_account"
   ]
  },
  {
   "cell_type": "markdown",
   "metadata": {},
   "source": [
    "# Change algod_token and algod_address to connect to a different client"
   ]
  },
  {
   "cell_type": "code",
   "execution_count": 11,
   "metadata": {},
   "outputs": [
    {
     "data": {
      "text/plain": [
       "<algosdk.v2client.algod.AlgodClient at 0x110ba4a90>"
      ]
     },
     "execution_count": 11,
     "metadata": {},
     "output_type": "execute_result"
    }
   ],
   "source": [
    "\n",
    "# algod_address = \"http://localhost:4001\"\n",
    "# algod_token = \"aaaaaaaaaaaaaaaaaaaaaaaaaaaaaaaaaaaaaaaaaaaaaaaaaaaaaaaaaaaaaaaa\"\n",
    "\n",
    "algod_token = \"2f3203f21e738a1de6110eba6984f9d03e5a95d7a577b34616854064cf2c0e7b\"\n",
    "algod_address = \"https://academy-algod.dev.aws.algodev.network/\"\n",
    "\n",
    "algod_client = algod.AlgodClient(algod_token, algod_address)\n",
    "algod_client"
   ]
  },
  {
   "cell_type": "markdown",
   "metadata": {},
   "source": [
    "# #Generate new account for this transaction"
   ]
  },
  {
   "cell_type": "code",
   "execution_count": 12,
   "metadata": {},
   "outputs": [
    {
     "name": "stdout",
     "output_type": "stream",
     "text": [
      "Account balance: 15000000 microAlgos\n",
      "\n"
     ]
    }
   ],
   "source": [
    "#Generate new account for this transaction\n",
    "secret_key, my_address = account.generate_account()\n",
    "m = mnemonic.from_private_key(secret_key)\n",
    "print(\"My address: {}\".format(my_address))\n",
    "\n",
    "# Check your balance. It should be 0 microAlgos\n",
    "my_address = \"DSP7BRDYWKM7DSIDPPHRQSILQQLZZVGPJIGGLSFEQMWBDL4UJX6LDJAYCM\"\n",
    "account_info = algod_client.account_info(my_address)\n",
    "print(\"Account balance: {} microAlgos\".format(account_info.get('amount')) + \"\\n\")"
   ]
  },
  {
   "cell_type": "markdown",
   "metadata": {},
   "source": [
    "# Fund the created account"
   ]
  },
  {
   "cell_type": "code",
   "execution_count": 13,
   "metadata": {},
   "outputs": [
    {
     "name": "stdout",
     "output_type": "stream",
     "text": [
      "Go to the below link to fund the created account using testnet faucet: \n",
      " https://dispenser.testnet.aws.algodev.network/?account=DSP7BRDYWKM7DSIDPPHRQSILQQLZZVGPJIGGLSFEQMWBDL4UJX6LDJAYCM\n",
      "Fund transfer in process...\n",
      "Fund transferred!\n",
      "Account balance: 15000000 microAlgos\n",
      "\n"
     ]
    }
   ],
   "source": [
    "#Fund the created account\n",
    "print('Go to the below link to fund the created account using testnet faucet: \\n https://dispenser.testnet.aws.algodev.network/?account={}'.format(my_address)) \n",
    "\n",
    "completed = \"\"\n",
    "while completed.lower() != 'yes':\n",
    "    completed = input(\"Type 'yes' once you funded the account: \")\n",
    "\n",
    "print('Fund transfer in process...')\n",
    "# Wait for the faucet to transfer funds\n",
    "time.sleep(5)\n",
    "\n",
    "print('Fund transferred!')\n",
    "# Check your balance. It should be 5000000 microAlgos\n",
    "account_info = algod_client.account_info(my_address)\n",
    "print(\"Account balance: {} microAlgos\".format(account_info.get('amount')) + \"\\n\")"
   ]
  },
  {
   "cell_type": "markdown",
   "metadata": {},
   "source": [
    "# Close the account"
   ]
  },
  {
   "cell_type": "code",
   "execution_count": 20,
   "metadata": {},
   "outputs": [],
   "source": [
    "# build transaction\n",
    "print(\"--------------------------------------------\")\n",
    "print(\"Closing out account......\")\n",
    "params = algod_client.suggested_params()\n",
    "# comment out the next two (2) lines to use suggested fees\n",
    "#   params.flat_fee = True\n",
    "#   params.fee = 1000\n",
    "receiver = \"HZ57J3K46JIJXILONBBZOHX6BKPXEM2VVXNRFSUED6DKFD5ZD24PMJ3MVA\"\n",
    "note = \"closing out account\".encode()\n",
    "\n",
    "# Fifth argument is a close_remainder_to parameter that creates a payment txn that sends all of the remaining funds to the specified address. \n",
    "# If you want to learn more, go to: https://developer.algorand.org/docs/reference/transactions/#payment-transaction\n",
    "unsigned_txn = PaymentTxn(my_address, params, receiver, 0, receiver, note)\n",
    "\n",
    "# sign transaction\n",
    "signed_txn = unsigned_txn.sign(secret_key)\n",
    "txid = algod_client.send_transaction(signed_txn)\n",
    "print('Transaction Info:')\n",
    "print(\"Signed transaction with txID: {}\".format(txid))\n",
    "\n",
    "# wait for confirmation\t\n",
    "try:\n",
    "    confirmed_txn = wait_for_confirmation(algod_client, txid, 4)\n",
    "    print(\"TXID: \", txid)\n",
    "    print(\"Result confirmed in round: {}\".format(confirmed_txn['confirmed-round'])) \n",
    "except Exception as err:\n",
    "    print(err)\n",
    "\n",
    "\n",
    "print(\"Account balance: {} microAlgos\".format(account_info.get('amount')) + \"\\n\")\n",
    "print(\"Account Closed\")"
   ]
  },
  {
   "cell_type": "code",
   "execution_count": null,
   "metadata": {},
   "outputs": [],
   "source": []
  }
 ],
 "metadata": {
  "kernelspec": {
   "display_name": "Python 3.9.7 ('venv': venv)",
   "language": "python",
   "name": "python3"
  },
  "language_info": {
   "codemirror_mode": {
    "name": "ipython",
    "version": 3
   },
   "file_extension": ".py",
   "mimetype": "text/x-python",
   "name": "python",
   "nbconvert_exporter": "python",
   "pygments_lexer": "ipython3",
   "version": "3.9.7"
  },
  "orig_nbformat": 4,
  "vscode": {
   "interpreter": {
    "hash": "ddb0c29e66dd8476ff85930aa4a5bdf365c550521f107110109657273c44a45a"
   }
  }
 },
 "nbformat": 4,
 "nbformat_minor": 2
}
