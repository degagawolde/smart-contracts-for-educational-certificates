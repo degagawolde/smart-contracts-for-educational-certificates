{
 "cells": [
  {
   "cell_type": "code",
   "execution_count": 6,
   "metadata": {},
   "outputs": [],
   "source": [
    "import json\n",
    "import base64\n",
    "import hashlib\n",
    "from algosdk import mnemonic\n",
    "from algosdk.v2client import algod\n",
    "from algosdk.future.transaction import AssetConfigTxn, AssetTransferTxn, PaymentTxn, wait_for_confirmation\n"
   ]
  },
  {
   "cell_type": "code",
   "execution_count": 7,
   "metadata": {},
   "outputs": [],
   "source": [
    "import sys\n",
    "sys.path.append('../scripts')\n",
    "from create_account import create_account\n",
    "from closeout_account import closeout_account\n",
    "from create_asset import create_asset, print_asset_holding, print_created_asset\n",
    "from create_nfts import  create_non_fungible_token"
   ]
  },
  {
   "cell_type": "code",
   "execution_count": 8,
   "metadata": {},
   "outputs": [],
   "source": [
    "\n",
    "# Using Rand Labs Developer API\n",
    "# see https://github.com/algorand/py-algorand-sdk/issues/169\n",
    "# Change algod_token and algod_address to connect to a different client\n",
    "algod_token = \"2f3203f21e738a1de6110eba6984f9d03e5a95d7a577b34616854064cf2c0e7b\"\n",
    "algod_address = \"https://academy-algod.dev.aws.algodev.network/\"\n",
    "algod_client = algod.AlgodClient(algod_token, algod_address)"
   ]
  },
  {
   "cell_type": "code",
   "execution_count": 9,
   "metadata": {},
   "outputs": [],
   "source": [
    "def create_fund_accounts():\n",
    "  # For ease of reference, add account public and private keys to an accounts dict.\n",
    "  print(\"--------------------------------------------\")\n",
    "  print(\"Creating Alice and Bob's accounts...\")\n",
    "  mnemonics = []\n",
    "  mnemonics.append(create_account())\n",
    "  mnemonics.append(create_account(False))\n",
    "  \n",
    "  accounts = {}\n",
    "  counter = 0\n",
    "  for m in mnemonics:\n",
    "    accounts[counter] = {}\n",
    "    accounts[counter]['pk'] = mnemonic.to_public_key(m)\n",
    "    accounts[counter]['sk'] = mnemonic.to_private_key(m)\n",
    "    counter += 1\n",
    "  \n",
    "  return accounts"
   ]
  },
  {
   "cell_type": "code",
   "execution_count": 27,
   "metadata": {},
   "outputs": [],
   "source": [
    "def transferAlgosToBob(algod_client, bob, alice):\n",
    "  print(\"--------------------------------------------\")\n",
    "  print(\"Transfering Algos to Bob....\")\n",
    "  account_info = algod_client.account_info(bob[\"pk\"])\n",
    "  print(\"Account balance: {} microAlgos\".format(account_info.get('amount')) + \"\\n\")\n",
    "\n",
    "  # build transaction \n",
    "  params = algod_client.suggested_params()\n",
    "  # comment out the next two (2) lines to use suggested fees\n",
    "  # params.flat_fee = True\n",
    "  # params.fee = 1000\n",
    "\n",
    "  # minimum balance 100000, plus 100000 for asset optin,\n",
    "  # plus 3000 for 3 tx (optin, transfer, algo closeout) = 203000 microalgos\n",
    "  # amount = 203000;\n",
    "  unsigned_txn = PaymentTxn(alice[\"pk\"], params, bob[\"pk\"], 203000)    \n",
    "\n",
    "  # sign transaction\n",
    "  signed_txn = unsigned_txn.sign(alice['sk'])\n",
    "\n",
    "  #submit transaction\n",
    "  txid = algod_client.send_transaction(signed_txn)\n",
    "  print(\"Successfully sent transaction with txID: {}\".format(txid))\n",
    "\n",
    "  # wait for confirmation \n",
    "  try:\n",
    "      confirmed_txn = wait_for_confirmation(algod_client, txid, 4)  \n",
    "      print(\"TXID: \", txid)\n",
    "      print(\"Result confirmed in round: {}\".format(confirmed_txn['confirmed-round']))\n",
    "      \n",
    "  except Exception as err:\n",
    "      print(err)\n",
    "      return\n",
    "\n",
    "  print(\"Transaction information: {}\".format(\n",
    "      json.dumps(confirmed_txn, indent=4)))\n",
    "  \n",
    "  account_info = algod_client.account_info(bob[\"pk\"])\n",
    "  print(\"Account balance: {} microAlgos\".format(account_info.get('amount')) + \"\\n\")"
   ]
  },
  {
   "cell_type": "code",
   "execution_count": 11,
   "metadata": {},
   "outputs": [],
   "source": [
    "def optIn(algod_client, bob, asset_id):\n",
    "    print(\"--------------------------------------------\")\n",
    "    print(\"Opt-in for Alice's token......\")\n",
    "    # Check if asset_id is in Bob's asset holdings prior\n",
    "    # to opt-in\n",
    "    params = algod_client.suggested_params()\n",
    "    # comment these two lines if you want to use suggested params\n",
    "    # params.fee = 1000\n",
    "    # params.flat_fee = True\n",
    "\n",
    "    account_info = algod_client.account_info(bob['pk'])\n",
    "    holding = None\n",
    "    idx = 0\n",
    "    for my_account_info in account_info['assets']:\n",
    "        scrutinized_asset = account_info['assets'][idx]\n",
    "        idx = idx + 1    \n",
    "        if (scrutinized_asset['asset-id'] == asset_id):\n",
    "            holding = True\n",
    "            break\n",
    "\n",
    "    if not holding:\n",
    "        # Use the AssetTransferTxn class to transfer assets and opt-in\n",
    "        txn = AssetTransferTxn(\n",
    "            sender=bob['pk'],\n",
    "            sp=params,\n",
    "            receiver=bob[\"pk\"],\n",
    "            amt=0,\n",
    "            index=asset_id)\n",
    "        stxn = txn.sign(bob['sk'])\n",
    "        txid = algod_client.send_transaction(stxn)\n",
    "        print(txid)\n",
    "        # Wait for the transaction to be confirmed\n",
    "        confirmed_txn = wait_for_confirmation(algod_client, txid, 4)\n",
    "        print(\"TXID: \", txid)\n",
    "        print(\"Result confirmed in round: {}\".format(confirmed_txn['confirmed-round']))\n",
    "        # Now check the asset holding for that account.\n",
    "        # This should now show a holding with a balance of 0.\n",
    "    print_asset_holding(algod_client, bob['pk'], asset_id)\n"
   ]
  },
  {
   "cell_type": "code",
   "execution_count": 12,
   "metadata": {},
   "outputs": [],
   "source": [
    "\n",
    "def transferAssets(algod_client, alice, bob, asset_id):\n",
    "  print(\"--------------------------------------------\")\n",
    "  print(\"Transfering Alice's token to Bob......\")\n",
    "  params = algod_client.suggested_params()\n",
    "  # comment these two lines if you want to use suggested params\n",
    "  # params.fee = 1000\n",
    "  # params.flat_fee = True\n",
    "  txn = AssetTransferTxn(\n",
    "      sender=alice['pk'],\n",
    "      sp=params,\n",
    "      receiver=bob[\"pk\"],\n",
    "      amt=100,\n",
    "      index=asset_id)\n",
    "  stxn = txn.sign(alice['sk'])\n",
    "  txid = algod_client.send_transaction(stxn)\n",
    "  print(txid)\n",
    "  # Wait for the transaction to be confirmed\n",
    "  confirmed_txn = wait_for_confirmation(algod_client, txid, 4)\n",
    "  print(\"TXID: \", txid)\n",
    "  print(\"Result confirmed in round: {}\".format(confirmed_txn['confirmed-round']))\n",
    "  # The balance should now be 10.\n",
    "  print_asset_holding(algod_client, bob['pk'], asset_id)"
   ]
  },
  {
   "cell_type": "code",
   "execution_count": 13,
   "metadata": {},
   "outputs": [],
   "source": [
    "\n",
    "def transferAssetsBack(algod_client, bob, alice, asset_id):\n",
    "  print(\"--------------------------------------------\")\n",
    "  print(\"Transfering Alice's token back to Alice......\")\n",
    "  params = algod_client.suggested_params()\n",
    "  # comment these two lines if you want to use suggested params\n",
    "  # params.fee = 1000\n",
    "  # params.flat_fee = True\n",
    "  txn = AssetTransferTxn(\n",
    "      sender=bob['pk'],\n",
    "      sp=params,\n",
    "      receiver=alice[\"pk\"],\n",
    "      amt=100,\n",
    "      close_assets_to=alice[\"pk\"],\n",
    "      index=asset_id)\n",
    "  stxn = txn.sign(bob['sk'])\n",
    "  txid = algod_client.send_transaction(stxn)\n",
    "  print(txid)\n",
    "  # Wait for the transaction to be confirmed\n",
    "  confirmed_txn = wait_for_confirmation(algod_client, txid, 4)\n",
    "  print(\"TXID: \", txid)\n",
    "  print(\"Result confirmed in round: {}\".format(confirmed_txn['confirmed-round']))\n",
    "  # The balance should now be 10.\n",
    "  print_asset_holding(algod_client, alice['pk'], asset_id)\n",
    "\n",
    "def destroyAsset(algod_client, alice, asset_id, bob):\n",
    "  print(\"--------------------------------------------\")\n",
    "  print(\"Destroying Alice's token......\")\n",
    "  params = algod_client.suggested_params()\n",
    "  # comment these two lines if you want to use suggested params\n",
    "  # params.fee = 1000\n",
    "  # params.flat_fee = True\n",
    "\n",
    "  # Asset destroy transaction\n",
    "  txn = AssetConfigTxn(\n",
    "      sender=alice['pk'],\n",
    "      sp=params,\n",
    "      index=asset_id,\n",
    "      strict_empty_address_check=False\n",
    "      )\n",
    "\n",
    "  # Sign with secret key of creator\n",
    "  stxn = txn.sign(alice['sk'])\n",
    "  # Send the transaction to the network and retrieve the txid.\n",
    "  txid = algod_client.send_transaction(stxn)\n",
    "  print(txid)\n",
    "  # Wait for the transaction to be confirmed\n",
    "  confirmed_txn = wait_for_confirmation(algod_client, txid, 4)\n",
    "  print(\"TXID: \", txid)\n",
    "  print(\"Result confirmed in round: {}\".format(confirmed_txn['confirmed-round']))\n",
    "  print(\"Alice's Token is destroyed.\")\n",
    "\n",
    "\n",
    "\n",
    "#   Utility function used to print created asset for account and assetid\n",
    "def print_created_asset(algodclient, account, assetid):\n",
    "  # note: if you have an indexer instance available it is easier to just use this\n",
    "  # response = myindexer.accounts(asset_id = assetid)\n",
    "  # then use 'account_info['created-assets'][0] to get info on the created asset\n",
    "  account_info = algodclient.account_info(account)\n",
    "  idx = 0;\n",
    "  for my_account_info in account_info['created-assets']:\n",
    "    scrutinized_asset = account_info['created-assets'][idx]\n",
    "    idx = idx + 1       \n",
    "    if (scrutinized_asset['index'] == assetid):\n",
    "      print(\"Asset ID: {}\".format(scrutinized_asset['index']))\n",
    "      print(json.dumps(my_account_info['params'], indent=4))\n",
    "      break\n",
    "\n",
    "#   Utility function used to print asset holding for account and assetid\n",
    "def print_asset_holding(algodclient, account, assetid):\n",
    "    # note: if you have an indexer instance available it is easier to just use this\n",
    "    # response = myindexer.accounts(asset_id = assetid)\n",
    "    # then loop thru the accounts returned and match the account you are looking for\n",
    "    account_info = algodclient.account_info(account)\n",
    "    idx = 0\n",
    "    for my_account_info in account_info['assets']:\n",
    "        scrutinized_asset = account_info['assets'][idx]\n",
    "        idx = idx + 1        \n",
    "        if (scrutinized_asset['asset-id'] == assetid):\n",
    "            print(\"Asset ID: {}\".format(scrutinized_asset['asset-id']))\n",
    "            print(json.dumps(scrutinized_asset, indent=4))\n",
    "            break\n"
   ]
  },
  {
   "cell_type": "code",
   "execution_count": 17,
   "metadata": {},
   "outputs": [
    {
     "name": "stdout",
     "output_type": "stream",
     "text": [
      "--------------------------------------------\n",
      "Creating Alice and Bob's accounts...\n",
      "My address: P76Q2SG54GBZ2ZZ6NLSAETFJ44FB7XRVATYWEVRUHE52NTYW3A4TI7ATPA\n",
      "Account balance: 0 microAlgos\n",
      "\n",
      "Go to the below link to fund the created account using testnet faucet: \n",
      " https://dispenser.testnet.aws.algodev.network/?account=P76Q2SG54GBZ2ZZ6NLSAETFJ44FB7XRVATYWEVRUHE52NTYW3A4TI7ATPA\n",
      "Fund transfer in process...\n",
      "Fund transferred!\n",
      "Account balance: 5000000 microAlgos\n",
      "\n",
      "My address: BZKZK3U6UZ6E6LUZ4XXGV4CQPXKX2KQTVRZPLWURF5XU3A2JZWBYM74Y3Q\n",
      "Account balance: 0 microAlgos\n",
      "\n"
     ]
    }
   ],
   "source": [
    "accounts = create_fund_accounts()\n",
    "# accounts[0] = Alice, accounts[1] = Bob"
   ]
  },
  {
   "cell_type": "code",
   "execution_count": 33,
   "metadata": {},
   "outputs": [],
   "source": [
    "asset_id = create_asset(accounts[0])     \n",
    "# asset_id=121918443 "
   ]
  },
  {
   "cell_type": "code",
   "execution_count": 29,
   "metadata": {},
   "outputs": [
    {
     "name": "stdout",
     "output_type": "stream",
     "text": [
      "--------------------------------------------\n",
      "Transfering Algos to Bob....\n",
      "Account balance: 0 microAlgos\n",
      "\n",
      "Successfully sent transaction with txID: FQANVHIZD5GZ42MSKVNDYHGEKIX4A5XI2QC5BSPI6U73AIN6LVPA\n",
      "Remote end closed connection without response\n"
     ]
    }
   ],
   "source": [
    "transferAlgosToBob(algod_client, accounts[1], accounts[0])"
   ]
  },
  {
   "cell_type": "code",
   "execution_count": 54,
   "metadata": {},
   "outputs": [
    {
     "name": "stdout",
     "output_type": "stream",
     "text": [
      "--------------------------------------------\n",
      "Opt-in for Alice's token......\n"
     ]
    },
    {
     "ename": "RemoteDisconnected",
     "evalue": "Remote end closed connection without response",
     "output_type": "error",
     "traceback": [
      "\u001b[0;31m---------------------------------------------------------------------------\u001b[0m",
      "\u001b[0;31mRemoteDisconnected\u001b[0m                        Traceback (most recent call last)",
      "Cell \u001b[0;32mIn [54], line 1\u001b[0m\n\u001b[0;32m----> 1\u001b[0m optIn(algod_client, accounts[\u001b[39m1\u001b[39;49m], asset_id)\n",
      "Cell \u001b[0;32mIn [11], line 11\u001b[0m, in \u001b[0;36moptIn\u001b[0;34m(algod_client, bob, asset_id)\u001b[0m\n\u001b[1;32m      6\u001b[0m params \u001b[39m=\u001b[39m algod_client\u001b[39m.\u001b[39msuggested_params()\n\u001b[1;32m      7\u001b[0m \u001b[39m# comment these two lines if you want to use suggested params\u001b[39;00m\n\u001b[1;32m      8\u001b[0m \u001b[39m# params.fee = 1000\u001b[39;00m\n\u001b[1;32m      9\u001b[0m \u001b[39m# params.flat_fee = True\u001b[39;00m\n\u001b[0;32m---> 11\u001b[0m account_info \u001b[39m=\u001b[39m algod_client\u001b[39m.\u001b[39;49maccount_info(bob[\u001b[39m'\u001b[39;49m\u001b[39mpk\u001b[39;49m\u001b[39m'\u001b[39;49m])\n\u001b[1;32m     12\u001b[0m holding \u001b[39m=\u001b[39m \u001b[39mNone\u001b[39;00m\n\u001b[1;32m     13\u001b[0m idx \u001b[39m=\u001b[39m \u001b[39m0\u001b[39m\n",
      "File \u001b[0;32m~/TENAC/week-11-12/week12/smart-contracts-for-educational-certificates/venv/lib/python3.9/site-packages/algosdk/v2client/algod.py:108\u001b[0m, in \u001b[0;36mAlgodClient.account_info\u001b[0;34m(self, address, **kwargs)\u001b[0m\n\u001b[1;32m    101\u001b[0m \u001b[39m\"\"\"\u001b[39;00m\n\u001b[1;32m    102\u001b[0m \u001b[39mReturn account information.\u001b[39;00m\n\u001b[1;32m    103\u001b[0m \n\u001b[1;32m    104\u001b[0m \u001b[39mArgs:\u001b[39;00m\n\u001b[1;32m    105\u001b[0m \u001b[39m    address (str): account public key\u001b[39;00m\n\u001b[1;32m    106\u001b[0m \u001b[39m\"\"\"\u001b[39;00m\n\u001b[1;32m    107\u001b[0m req \u001b[39m=\u001b[39m \u001b[39m\"\u001b[39m\u001b[39m/accounts/\u001b[39m\u001b[39m\"\u001b[39m \u001b[39m+\u001b[39m address\n\u001b[0;32m--> 108\u001b[0m \u001b[39mreturn\u001b[39;00m \u001b[39mself\u001b[39;49m\u001b[39m.\u001b[39;49malgod_request(\u001b[39m\"\u001b[39;49m\u001b[39mGET\u001b[39;49m\u001b[39m\"\u001b[39;49m, req, \u001b[39m*\u001b[39;49m\u001b[39m*\u001b[39;49mkwargs)\n",
      "File \u001b[0;32m~/TENAC/week-11-12/week12/smart-contracts-for-educational-certificates/venv/lib/python3.9/site-packages/algosdk/v2client/algod.py:82\u001b[0m, in \u001b[0;36mAlgodClient.algod_request\u001b[0;34m(self, method, requrl, params, data, headers, response_format)\u001b[0m\n\u001b[1;32m     74\u001b[0m req \u001b[39m=\u001b[39m Request(\n\u001b[1;32m     75\u001b[0m     \u001b[39mself\u001b[39m\u001b[39m.\u001b[39malgod_address \u001b[39m+\u001b[39m requrl,\n\u001b[1;32m     76\u001b[0m     headers\u001b[39m=\u001b[39mheader,\n\u001b[1;32m     77\u001b[0m     method\u001b[39m=\u001b[39mmethod,\n\u001b[1;32m     78\u001b[0m     data\u001b[39m=\u001b[39mdata,\n\u001b[1;32m     79\u001b[0m )\n\u001b[1;32m     81\u001b[0m \u001b[39mtry\u001b[39;00m:\n\u001b[0;32m---> 82\u001b[0m     resp \u001b[39m=\u001b[39m urlopen(req)\n\u001b[1;32m     83\u001b[0m \u001b[39mexcept\u001b[39;00m urllib\u001b[39m.\u001b[39merror\u001b[39m.\u001b[39mHTTPError \u001b[39mas\u001b[39;00m e:\n\u001b[1;32m     84\u001b[0m     code \u001b[39m=\u001b[39m e\u001b[39m.\u001b[39mcode\n",
      "File \u001b[0;32m~/miniforge3/lib/python3.9/urllib/request.py:214\u001b[0m, in \u001b[0;36murlopen\u001b[0;34m(url, data, timeout, cafile, capath, cadefault, context)\u001b[0m\n\u001b[1;32m    212\u001b[0m \u001b[39melse\u001b[39;00m:\n\u001b[1;32m    213\u001b[0m     opener \u001b[39m=\u001b[39m _opener\n\u001b[0;32m--> 214\u001b[0m \u001b[39mreturn\u001b[39;00m opener\u001b[39m.\u001b[39;49mopen(url, data, timeout)\n",
      "File \u001b[0;32m~/miniforge3/lib/python3.9/urllib/request.py:517\u001b[0m, in \u001b[0;36mOpenerDirector.open\u001b[0;34m(self, fullurl, data, timeout)\u001b[0m\n\u001b[1;32m    514\u001b[0m     req \u001b[39m=\u001b[39m meth(req)\n\u001b[1;32m    516\u001b[0m sys\u001b[39m.\u001b[39maudit(\u001b[39m'\u001b[39m\u001b[39murllib.Request\u001b[39m\u001b[39m'\u001b[39m, req\u001b[39m.\u001b[39mfull_url, req\u001b[39m.\u001b[39mdata, req\u001b[39m.\u001b[39mheaders, req\u001b[39m.\u001b[39mget_method())\n\u001b[0;32m--> 517\u001b[0m response \u001b[39m=\u001b[39m \u001b[39mself\u001b[39;49m\u001b[39m.\u001b[39;49m_open(req, data)\n\u001b[1;32m    519\u001b[0m \u001b[39m# post-process response\u001b[39;00m\n\u001b[1;32m    520\u001b[0m meth_name \u001b[39m=\u001b[39m protocol\u001b[39m+\u001b[39m\u001b[39m\"\u001b[39m\u001b[39m_response\u001b[39m\u001b[39m\"\u001b[39m\n",
      "File \u001b[0;32m~/miniforge3/lib/python3.9/urllib/request.py:534\u001b[0m, in \u001b[0;36mOpenerDirector._open\u001b[0;34m(self, req, data)\u001b[0m\n\u001b[1;32m    531\u001b[0m     \u001b[39mreturn\u001b[39;00m result\n\u001b[1;32m    533\u001b[0m protocol \u001b[39m=\u001b[39m req\u001b[39m.\u001b[39mtype\n\u001b[0;32m--> 534\u001b[0m result \u001b[39m=\u001b[39m \u001b[39mself\u001b[39;49m\u001b[39m.\u001b[39;49m_call_chain(\u001b[39mself\u001b[39;49m\u001b[39m.\u001b[39;49mhandle_open, protocol, protocol \u001b[39m+\u001b[39;49m\n\u001b[1;32m    535\u001b[0m                           \u001b[39m'\u001b[39;49m\u001b[39m_open\u001b[39;49m\u001b[39m'\u001b[39;49m, req)\n\u001b[1;32m    536\u001b[0m \u001b[39mif\u001b[39;00m result:\n\u001b[1;32m    537\u001b[0m     \u001b[39mreturn\u001b[39;00m result\n",
      "File \u001b[0;32m~/miniforge3/lib/python3.9/urllib/request.py:494\u001b[0m, in \u001b[0;36mOpenerDirector._call_chain\u001b[0;34m(self, chain, kind, meth_name, *args)\u001b[0m\n\u001b[1;32m    492\u001b[0m \u001b[39mfor\u001b[39;00m handler \u001b[39min\u001b[39;00m handlers:\n\u001b[1;32m    493\u001b[0m     func \u001b[39m=\u001b[39m \u001b[39mgetattr\u001b[39m(handler, meth_name)\n\u001b[0;32m--> 494\u001b[0m     result \u001b[39m=\u001b[39m func(\u001b[39m*\u001b[39;49margs)\n\u001b[1;32m    495\u001b[0m     \u001b[39mif\u001b[39;00m result \u001b[39mis\u001b[39;00m \u001b[39mnot\u001b[39;00m \u001b[39mNone\u001b[39;00m:\n\u001b[1;32m    496\u001b[0m         \u001b[39mreturn\u001b[39;00m result\n",
      "File \u001b[0;32m~/miniforge3/lib/python3.9/urllib/request.py:1389\u001b[0m, in \u001b[0;36mHTTPSHandler.https_open\u001b[0;34m(self, req)\u001b[0m\n\u001b[1;32m   1388\u001b[0m \u001b[39mdef\u001b[39;00m \u001b[39mhttps_open\u001b[39m(\u001b[39mself\u001b[39m, req):\n\u001b[0;32m-> 1389\u001b[0m     \u001b[39mreturn\u001b[39;00m \u001b[39mself\u001b[39;49m\u001b[39m.\u001b[39;49mdo_open(http\u001b[39m.\u001b[39;49mclient\u001b[39m.\u001b[39;49mHTTPSConnection, req,\n\u001b[1;32m   1390\u001b[0m         context\u001b[39m=\u001b[39;49m\u001b[39mself\u001b[39;49m\u001b[39m.\u001b[39;49m_context, check_hostname\u001b[39m=\u001b[39;49m\u001b[39mself\u001b[39;49m\u001b[39m.\u001b[39;49m_check_hostname)\n",
      "File \u001b[0;32m~/miniforge3/lib/python3.9/urllib/request.py:1350\u001b[0m, in \u001b[0;36mAbstractHTTPHandler.do_open\u001b[0;34m(self, http_class, req, **http_conn_args)\u001b[0m\n\u001b[1;32m   1348\u001b[0m     \u001b[39mexcept\u001b[39;00m \u001b[39mOSError\u001b[39;00m \u001b[39mas\u001b[39;00m err: \u001b[39m# timeout error\u001b[39;00m\n\u001b[1;32m   1349\u001b[0m         \u001b[39mraise\u001b[39;00m URLError(err)\n\u001b[0;32m-> 1350\u001b[0m     r \u001b[39m=\u001b[39m h\u001b[39m.\u001b[39;49mgetresponse()\n\u001b[1;32m   1351\u001b[0m \u001b[39mexcept\u001b[39;00m:\n\u001b[1;32m   1352\u001b[0m     h\u001b[39m.\u001b[39mclose()\n",
      "File \u001b[0;32m~/miniforge3/lib/python3.9/http/client.py:1371\u001b[0m, in \u001b[0;36mHTTPConnection.getresponse\u001b[0;34m(self)\u001b[0m\n\u001b[1;32m   1369\u001b[0m \u001b[39mtry\u001b[39;00m:\n\u001b[1;32m   1370\u001b[0m     \u001b[39mtry\u001b[39;00m:\n\u001b[0;32m-> 1371\u001b[0m         response\u001b[39m.\u001b[39;49mbegin()\n\u001b[1;32m   1372\u001b[0m     \u001b[39mexcept\u001b[39;00m \u001b[39mConnectionError\u001b[39;00m:\n\u001b[1;32m   1373\u001b[0m         \u001b[39mself\u001b[39m\u001b[39m.\u001b[39mclose()\n",
      "File \u001b[0;32m~/miniforge3/lib/python3.9/http/client.py:319\u001b[0m, in \u001b[0;36mHTTPResponse.begin\u001b[0;34m(self)\u001b[0m\n\u001b[1;32m    317\u001b[0m \u001b[39m# read until we get a non-100 response\u001b[39;00m\n\u001b[1;32m    318\u001b[0m \u001b[39mwhile\u001b[39;00m \u001b[39mTrue\u001b[39;00m:\n\u001b[0;32m--> 319\u001b[0m     version, status, reason \u001b[39m=\u001b[39m \u001b[39mself\u001b[39;49m\u001b[39m.\u001b[39;49m_read_status()\n\u001b[1;32m    320\u001b[0m     \u001b[39mif\u001b[39;00m status \u001b[39m!=\u001b[39m CONTINUE:\n\u001b[1;32m    321\u001b[0m         \u001b[39mbreak\u001b[39;00m\n",
      "File \u001b[0;32m~/miniforge3/lib/python3.9/http/client.py:288\u001b[0m, in \u001b[0;36mHTTPResponse._read_status\u001b[0;34m(self)\u001b[0m\n\u001b[1;32m    284\u001b[0m     \u001b[39mprint\u001b[39m(\u001b[39m\"\u001b[39m\u001b[39mreply:\u001b[39m\u001b[39m\"\u001b[39m, \u001b[39mrepr\u001b[39m(line))\n\u001b[1;32m    285\u001b[0m \u001b[39mif\u001b[39;00m \u001b[39mnot\u001b[39;00m line:\n\u001b[1;32m    286\u001b[0m     \u001b[39m# Presumably, the server closed the connection before\u001b[39;00m\n\u001b[1;32m    287\u001b[0m     \u001b[39m# sending a valid response.\u001b[39;00m\n\u001b[0;32m--> 288\u001b[0m     \u001b[39mraise\u001b[39;00m RemoteDisconnected(\u001b[39m\"\u001b[39m\u001b[39mRemote end closed connection without\u001b[39m\u001b[39m\"\u001b[39m\n\u001b[1;32m    289\u001b[0m                              \u001b[39m\"\u001b[39m\u001b[39m response\u001b[39m\u001b[39m\"\u001b[39m)\n\u001b[1;32m    290\u001b[0m \u001b[39mtry\u001b[39;00m:\n\u001b[1;32m    291\u001b[0m     version, status, reason \u001b[39m=\u001b[39m line\u001b[39m.\u001b[39msplit(\u001b[39mNone\u001b[39;00m, \u001b[39m2\u001b[39m)\n",
      "\u001b[0;31mRemoteDisconnected\u001b[0m: Remote end closed connection without response"
     ]
    }
   ],
   "source": [
    "optIn(algod_client, accounts[1], asset_id)"
   ]
  },
  {
   "cell_type": "code",
   "execution_count": 52,
   "metadata": {},
   "outputs": [
    {
     "name": "stdout",
     "output_type": "stream",
     "text": [
      "--------------------------------------------\n",
      "Transfering Alice's token to Bob......\n"
     ]
    },
    {
     "ename": "AlgodHTTPError",
     "evalue": "TransactionPool.Remember: transaction STJT7ZY4YF6M2MO6CNGS63DQRIYKHXEN67SHSK42F2X5M5G46PCA: receiver error: must optin, asset 121918443 missing from BZKZK3U6UZ6E6LUZ4XXGV4CQPXKX2KQTVRZPLWURF5XU3A2JZWBYM74Y3Q",
     "output_type": "error",
     "traceback": [
      "\u001b[0;31m---------------------------------------------------------------------------\u001b[0m",
      "\u001b[0;31mHTTPError\u001b[0m                                 Traceback (most recent call last)",
      "File \u001b[0;32m~/TENAC/week-11-12/week12/smart-contracts-for-educational-certificates/venv/lib/python3.9/site-packages/algosdk/v2client/algod.py:82\u001b[0m, in \u001b[0;36mAlgodClient.algod_request\u001b[0;34m(self, method, requrl, params, data, headers, response_format)\u001b[0m\n\u001b[1;32m     81\u001b[0m \u001b[39mtry\u001b[39;00m:\n\u001b[0;32m---> 82\u001b[0m     resp \u001b[39m=\u001b[39m urlopen(req)\n\u001b[1;32m     83\u001b[0m \u001b[39mexcept\u001b[39;00m urllib\u001b[39m.\u001b[39merror\u001b[39m.\u001b[39mHTTPError \u001b[39mas\u001b[39;00m e:\n",
      "File \u001b[0;32m~/miniforge3/lib/python3.9/urllib/request.py:214\u001b[0m, in \u001b[0;36murlopen\u001b[0;34m(url, data, timeout, cafile, capath, cadefault, context)\u001b[0m\n\u001b[1;32m    213\u001b[0m     opener \u001b[39m=\u001b[39m _opener\n\u001b[0;32m--> 214\u001b[0m \u001b[39mreturn\u001b[39;00m opener\u001b[39m.\u001b[39;49mopen(url, data, timeout)\n",
      "File \u001b[0;32m~/miniforge3/lib/python3.9/urllib/request.py:523\u001b[0m, in \u001b[0;36mOpenerDirector.open\u001b[0;34m(self, fullurl, data, timeout)\u001b[0m\n\u001b[1;32m    522\u001b[0m     meth \u001b[39m=\u001b[39m \u001b[39mgetattr\u001b[39m(processor, meth_name)\n\u001b[0;32m--> 523\u001b[0m     response \u001b[39m=\u001b[39m meth(req, response)\n\u001b[1;32m    525\u001b[0m \u001b[39mreturn\u001b[39;00m response\n",
      "File \u001b[0;32m~/miniforge3/lib/python3.9/urllib/request.py:632\u001b[0m, in \u001b[0;36mHTTPErrorProcessor.http_response\u001b[0;34m(self, request, response)\u001b[0m\n\u001b[1;32m    631\u001b[0m \u001b[39mif\u001b[39;00m \u001b[39mnot\u001b[39;00m (\u001b[39m200\u001b[39m \u001b[39m<\u001b[39m\u001b[39m=\u001b[39m code \u001b[39m<\u001b[39m \u001b[39m300\u001b[39m):\n\u001b[0;32m--> 632\u001b[0m     response \u001b[39m=\u001b[39m \u001b[39mself\u001b[39;49m\u001b[39m.\u001b[39;49mparent\u001b[39m.\u001b[39;49merror(\n\u001b[1;32m    633\u001b[0m         \u001b[39m'\u001b[39;49m\u001b[39mhttp\u001b[39;49m\u001b[39m'\u001b[39;49m, request, response, code, msg, hdrs)\n\u001b[1;32m    635\u001b[0m \u001b[39mreturn\u001b[39;00m response\n",
      "File \u001b[0;32m~/miniforge3/lib/python3.9/urllib/request.py:561\u001b[0m, in \u001b[0;36mOpenerDirector.error\u001b[0;34m(self, proto, *args)\u001b[0m\n\u001b[1;32m    560\u001b[0m args \u001b[39m=\u001b[39m (\u001b[39mdict\u001b[39m, \u001b[39m'\u001b[39m\u001b[39mdefault\u001b[39m\u001b[39m'\u001b[39m, \u001b[39m'\u001b[39m\u001b[39mhttp_error_default\u001b[39m\u001b[39m'\u001b[39m) \u001b[39m+\u001b[39m orig_args\n\u001b[0;32m--> 561\u001b[0m \u001b[39mreturn\u001b[39;00m \u001b[39mself\u001b[39;49m\u001b[39m.\u001b[39;49m_call_chain(\u001b[39m*\u001b[39;49margs)\n",
      "File \u001b[0;32m~/miniforge3/lib/python3.9/urllib/request.py:494\u001b[0m, in \u001b[0;36mOpenerDirector._call_chain\u001b[0;34m(self, chain, kind, meth_name, *args)\u001b[0m\n\u001b[1;32m    493\u001b[0m func \u001b[39m=\u001b[39m \u001b[39mgetattr\u001b[39m(handler, meth_name)\n\u001b[0;32m--> 494\u001b[0m result \u001b[39m=\u001b[39m func(\u001b[39m*\u001b[39;49margs)\n\u001b[1;32m    495\u001b[0m \u001b[39mif\u001b[39;00m result \u001b[39mis\u001b[39;00m \u001b[39mnot\u001b[39;00m \u001b[39mNone\u001b[39;00m:\n",
      "File \u001b[0;32m~/miniforge3/lib/python3.9/urllib/request.py:641\u001b[0m, in \u001b[0;36mHTTPDefaultErrorHandler.http_error_default\u001b[0;34m(self, req, fp, code, msg, hdrs)\u001b[0m\n\u001b[1;32m    640\u001b[0m \u001b[39mdef\u001b[39;00m \u001b[39mhttp_error_default\u001b[39m(\u001b[39mself\u001b[39m, req, fp, code, msg, hdrs):\n\u001b[0;32m--> 641\u001b[0m     \u001b[39mraise\u001b[39;00m HTTPError(req\u001b[39m.\u001b[39mfull_url, code, msg, hdrs, fp)\n",
      "\u001b[0;31mHTTPError\u001b[0m: HTTP Error 400: Bad Request",
      "\nDuring handling of the above exception, another exception occurred:\n",
      "\u001b[0;31mAlgodHTTPError\u001b[0m                            Traceback (most recent call last)",
      "Cell \u001b[0;32mIn [52], line 1\u001b[0m\n\u001b[0;32m----> 1\u001b[0m transferAssets(algod_client, accounts[\u001b[39m0\u001b[39;49m], accounts[\u001b[39m1\u001b[39;49m], asset_id)\n",
      "Cell \u001b[0;32mIn [12], line 15\u001b[0m, in \u001b[0;36mtransferAssets\u001b[0;34m(algod_client, alice, bob, asset_id)\u001b[0m\n\u001b[1;32m      8\u001b[0m txn \u001b[39m=\u001b[39m AssetTransferTxn(\n\u001b[1;32m      9\u001b[0m     sender\u001b[39m=\u001b[39malice[\u001b[39m'\u001b[39m\u001b[39mpk\u001b[39m\u001b[39m'\u001b[39m],\n\u001b[1;32m     10\u001b[0m     sp\u001b[39m=\u001b[39mparams,\n\u001b[1;32m     11\u001b[0m     receiver\u001b[39m=\u001b[39mbob[\u001b[39m\"\u001b[39m\u001b[39mpk\u001b[39m\u001b[39m\"\u001b[39m],\n\u001b[1;32m     12\u001b[0m     amt\u001b[39m=\u001b[39m\u001b[39m100\u001b[39m,\n\u001b[1;32m     13\u001b[0m     index\u001b[39m=\u001b[39masset_id)\n\u001b[1;32m     14\u001b[0m stxn \u001b[39m=\u001b[39m txn\u001b[39m.\u001b[39msign(alice[\u001b[39m'\u001b[39m\u001b[39msk\u001b[39m\u001b[39m'\u001b[39m])\n\u001b[0;32m---> 15\u001b[0m txid \u001b[39m=\u001b[39m algod_client\u001b[39m.\u001b[39;49msend_transaction(stxn)\n\u001b[1;32m     16\u001b[0m \u001b[39mprint\u001b[39m(txid)\n\u001b[1;32m     17\u001b[0m \u001b[39m# Wait for the transaction to be confirmed\u001b[39;00m\n",
      "File \u001b[0;32m~/TENAC/week-11-12/week12/smart-contracts-for-educational-certificates/venv/lib/python3.9/site-packages/algosdk/v2client/algod.py:214\u001b[0m, in \u001b[0;36mAlgodClient.send_transaction\u001b[0;34m(self, txn, **kwargs)\u001b[0m\n\u001b[1;32m    201\u001b[0m \u001b[39m\"\"\"\u001b[39;00m\n\u001b[1;32m    202\u001b[0m \u001b[39mBroadcast a signed transaction object to the network.\u001b[39;00m\n\u001b[1;32m    203\u001b[0m \n\u001b[0;32m   (...)\u001b[0m\n\u001b[1;32m    209\u001b[0m \u001b[39m    str: transaction ID\u001b[39;00m\n\u001b[1;32m    210\u001b[0m \u001b[39m\"\"\"\u001b[39;00m\n\u001b[1;32m    211\u001b[0m \u001b[39massert\u001b[39;00m \u001b[39mnot\u001b[39;00m \u001b[39misinstance\u001b[39m(\n\u001b[1;32m    212\u001b[0m     txn, future\u001b[39m.\u001b[39mtransaction\u001b[39m.\u001b[39mTransaction\n\u001b[1;32m    213\u001b[0m ), \u001b[39m\"\u001b[39m\u001b[39mAttempt to send UNSIGNED transaction \u001b[39m\u001b[39m{}\u001b[39;00m\u001b[39m\"\u001b[39m\u001b[39m.\u001b[39mformat(txn)\n\u001b[0;32m--> 214\u001b[0m \u001b[39mreturn\u001b[39;00m \u001b[39mself\u001b[39;49m\u001b[39m.\u001b[39;49msend_raw_transaction(\n\u001b[1;32m    215\u001b[0m     encoding\u001b[39m.\u001b[39;49mmsgpack_encode(txn), \u001b[39m*\u001b[39;49m\u001b[39m*\u001b[39;49mkwargs\n\u001b[1;32m    216\u001b[0m )\n",
      "File \u001b[0;32m~/TENAC/week-11-12/week12/smart-contracts-for-educational-certificates/venv/lib/python3.9/site-packages/algosdk/v2client/algod.py:237\u001b[0m, in \u001b[0;36mAlgodClient.send_raw_transaction\u001b[0;34m(self, txn, **kwargs)\u001b[0m\n\u001b[1;32m    231\u001b[0m headers \u001b[39m=\u001b[39m util\u001b[39m.\u001b[39mbuild_headers_from(\n\u001b[1;32m    232\u001b[0m     kwargs\u001b[39m.\u001b[39mget(\u001b[39m\"\u001b[39m\u001b[39mheaders\u001b[39m\u001b[39m\"\u001b[39m, \u001b[39mFalse\u001b[39;00m),\n\u001b[1;32m    233\u001b[0m     {\u001b[39m\"\u001b[39m\u001b[39mContent-Type\u001b[39m\u001b[39m\"\u001b[39m: \u001b[39m\"\u001b[39m\u001b[39mapplication/x-binary\u001b[39m\u001b[39m\"\u001b[39m},\n\u001b[1;32m    234\u001b[0m )\n\u001b[1;32m    235\u001b[0m kwargs[\u001b[39m\"\u001b[39m\u001b[39mheaders\u001b[39m\u001b[39m\"\u001b[39m] \u001b[39m=\u001b[39m headers\n\u001b[0;32m--> 237\u001b[0m \u001b[39mreturn\u001b[39;00m \u001b[39mself\u001b[39;49m\u001b[39m.\u001b[39;49malgod_request(\u001b[39m\"\u001b[39;49m\u001b[39mPOST\u001b[39;49m\u001b[39m\"\u001b[39;49m, req, data\u001b[39m=\u001b[39;49mtxn, \u001b[39m*\u001b[39;49m\u001b[39m*\u001b[39;49mkwargs)[\u001b[39m\"\u001b[39m\u001b[39mtxId\u001b[39m\u001b[39m\"\u001b[39m]\n",
      "File \u001b[0;32m~/TENAC/week-11-12/week12/smart-contracts-for-educational-certificates/venv/lib/python3.9/site-packages/algosdk/v2client/algod.py:89\u001b[0m, in \u001b[0;36mAlgodClient.algod_request\u001b[0;34m(self, method, requrl, params, data, headers, response_format)\u001b[0m\n\u001b[1;32m     87\u001b[0m         e \u001b[39m=\u001b[39m json\u001b[39m.\u001b[39mloads(e)[\u001b[39m\"\u001b[39m\u001b[39mmessage\u001b[39m\u001b[39m\"\u001b[39m]\n\u001b[1;32m     88\u001b[0m     \u001b[39mfinally\u001b[39;00m:\n\u001b[0;32m---> 89\u001b[0m         \u001b[39mraise\u001b[39;00m error\u001b[39m.\u001b[39mAlgodHTTPError(e, code)\n\u001b[1;32m     90\u001b[0m \u001b[39mif\u001b[39;00m response_format \u001b[39m==\u001b[39m \u001b[39m\"\u001b[39m\u001b[39mjson\u001b[39m\u001b[39m\"\u001b[39m:\n\u001b[1;32m     91\u001b[0m     \u001b[39mtry\u001b[39;00m:\n",
      "\u001b[0;31mAlgodHTTPError\u001b[0m: TransactionPool.Remember: transaction STJT7ZY4YF6M2MO6CNGS63DQRIYKHXEN67SHSK42F2X5M5G46PCA: receiver error: must optin, asset 121918443 missing from BZKZK3U6UZ6E6LUZ4XXGV4CQPXKX2KQTVRZPLWURF5XU3A2JZWBYM74Y3Q"
     ]
    }
   ],
   "source": [
    "transferAssets(algod_client, accounts[0], accounts[1], asset_id)"
   ]
  },
  {
   "cell_type": "code",
   "execution_count": 49,
   "metadata": {},
   "outputs": [
    {
     "name": "stdout",
     "output_type": "stream",
     "text": [
      "--------------------------------------------\n",
      "Transfering Alice's token back to Alice......\n"
     ]
    },
    {
     "ename": "RemoteDisconnected",
     "evalue": "Remote end closed connection without response",
     "output_type": "error",
     "traceback": [
      "\u001b[0;31m---------------------------------------------------------------------------\u001b[0m",
      "\u001b[0;31mRemoteDisconnected\u001b[0m                        Traceback (most recent call last)",
      "Cell \u001b[0;32mIn [49], line 1\u001b[0m\n\u001b[0;32m----> 1\u001b[0m transferAssetsBack(algod_client, accounts[\u001b[39m1\u001b[39;49m], accounts[\u001b[39m0\u001b[39;49m], asset_id)\n",
      "Cell \u001b[0;32mIn [13], line 16\u001b[0m, in \u001b[0;36mtransferAssetsBack\u001b[0;34m(algod_client, bob, alice, asset_id)\u001b[0m\n\u001b[1;32m      8\u001b[0m txn \u001b[39m=\u001b[39m AssetTransferTxn(\n\u001b[1;32m      9\u001b[0m     sender\u001b[39m=\u001b[39mbob[\u001b[39m'\u001b[39m\u001b[39mpk\u001b[39m\u001b[39m'\u001b[39m],\n\u001b[1;32m     10\u001b[0m     sp\u001b[39m=\u001b[39mparams,\n\u001b[0;32m   (...)\u001b[0m\n\u001b[1;32m     13\u001b[0m     close_assets_to\u001b[39m=\u001b[39malice[\u001b[39m\"\u001b[39m\u001b[39mpk\u001b[39m\u001b[39m\"\u001b[39m],\n\u001b[1;32m     14\u001b[0m     index\u001b[39m=\u001b[39masset_id)\n\u001b[1;32m     15\u001b[0m stxn \u001b[39m=\u001b[39m txn\u001b[39m.\u001b[39msign(bob[\u001b[39m'\u001b[39m\u001b[39msk\u001b[39m\u001b[39m'\u001b[39m])\n\u001b[0;32m---> 16\u001b[0m txid \u001b[39m=\u001b[39m algod_client\u001b[39m.\u001b[39;49msend_transaction(stxn)\n\u001b[1;32m     17\u001b[0m \u001b[39mprint\u001b[39m(txid)\n\u001b[1;32m     18\u001b[0m \u001b[39m# Wait for the transaction to be confirmed\u001b[39;00m\n",
      "File \u001b[0;32m~/TENAC/week-11-12/week12/smart-contracts-for-educational-certificates/venv/lib/python3.9/site-packages/algosdk/v2client/algod.py:214\u001b[0m, in \u001b[0;36mAlgodClient.send_transaction\u001b[0;34m(self, txn, **kwargs)\u001b[0m\n\u001b[1;32m    201\u001b[0m \u001b[39m\"\"\"\u001b[39;00m\n\u001b[1;32m    202\u001b[0m \u001b[39mBroadcast a signed transaction object to the network.\u001b[39;00m\n\u001b[1;32m    203\u001b[0m \n\u001b[0;32m   (...)\u001b[0m\n\u001b[1;32m    209\u001b[0m \u001b[39m    str: transaction ID\u001b[39;00m\n\u001b[1;32m    210\u001b[0m \u001b[39m\"\"\"\u001b[39;00m\n\u001b[1;32m    211\u001b[0m \u001b[39massert\u001b[39;00m \u001b[39mnot\u001b[39;00m \u001b[39misinstance\u001b[39m(\n\u001b[1;32m    212\u001b[0m     txn, future\u001b[39m.\u001b[39mtransaction\u001b[39m.\u001b[39mTransaction\n\u001b[1;32m    213\u001b[0m ), \u001b[39m\"\u001b[39m\u001b[39mAttempt to send UNSIGNED transaction \u001b[39m\u001b[39m{}\u001b[39;00m\u001b[39m\"\u001b[39m\u001b[39m.\u001b[39mformat(txn)\n\u001b[0;32m--> 214\u001b[0m \u001b[39mreturn\u001b[39;00m \u001b[39mself\u001b[39;49m\u001b[39m.\u001b[39;49msend_raw_transaction(\n\u001b[1;32m    215\u001b[0m     encoding\u001b[39m.\u001b[39;49mmsgpack_encode(txn), \u001b[39m*\u001b[39;49m\u001b[39m*\u001b[39;49mkwargs\n\u001b[1;32m    216\u001b[0m )\n",
      "File \u001b[0;32m~/TENAC/week-11-12/week12/smart-contracts-for-educational-certificates/venv/lib/python3.9/site-packages/algosdk/v2client/algod.py:237\u001b[0m, in \u001b[0;36mAlgodClient.send_raw_transaction\u001b[0;34m(self, txn, **kwargs)\u001b[0m\n\u001b[1;32m    231\u001b[0m headers \u001b[39m=\u001b[39m util\u001b[39m.\u001b[39mbuild_headers_from(\n\u001b[1;32m    232\u001b[0m     kwargs\u001b[39m.\u001b[39mget(\u001b[39m\"\u001b[39m\u001b[39mheaders\u001b[39m\u001b[39m\"\u001b[39m, \u001b[39mFalse\u001b[39;00m),\n\u001b[1;32m    233\u001b[0m     {\u001b[39m\"\u001b[39m\u001b[39mContent-Type\u001b[39m\u001b[39m\"\u001b[39m: \u001b[39m\"\u001b[39m\u001b[39mapplication/x-binary\u001b[39m\u001b[39m\"\u001b[39m},\n\u001b[1;32m    234\u001b[0m )\n\u001b[1;32m    235\u001b[0m kwargs[\u001b[39m\"\u001b[39m\u001b[39mheaders\u001b[39m\u001b[39m\"\u001b[39m] \u001b[39m=\u001b[39m headers\n\u001b[0;32m--> 237\u001b[0m \u001b[39mreturn\u001b[39;00m \u001b[39mself\u001b[39;49m\u001b[39m.\u001b[39;49malgod_request(\u001b[39m\"\u001b[39;49m\u001b[39mPOST\u001b[39;49m\u001b[39m\"\u001b[39;49m, req, data\u001b[39m=\u001b[39;49mtxn, \u001b[39m*\u001b[39;49m\u001b[39m*\u001b[39;49mkwargs)[\u001b[39m\"\u001b[39m\u001b[39mtxId\u001b[39m\u001b[39m\"\u001b[39m]\n",
      "File \u001b[0;32m~/TENAC/week-11-12/week12/smart-contracts-for-educational-certificates/venv/lib/python3.9/site-packages/algosdk/v2client/algod.py:82\u001b[0m, in \u001b[0;36mAlgodClient.algod_request\u001b[0;34m(self, method, requrl, params, data, headers, response_format)\u001b[0m\n\u001b[1;32m     74\u001b[0m req \u001b[39m=\u001b[39m Request(\n\u001b[1;32m     75\u001b[0m     \u001b[39mself\u001b[39m\u001b[39m.\u001b[39malgod_address \u001b[39m+\u001b[39m requrl,\n\u001b[1;32m     76\u001b[0m     headers\u001b[39m=\u001b[39mheader,\n\u001b[1;32m     77\u001b[0m     method\u001b[39m=\u001b[39mmethod,\n\u001b[1;32m     78\u001b[0m     data\u001b[39m=\u001b[39mdata,\n\u001b[1;32m     79\u001b[0m )\n\u001b[1;32m     81\u001b[0m \u001b[39mtry\u001b[39;00m:\n\u001b[0;32m---> 82\u001b[0m     resp \u001b[39m=\u001b[39m urlopen(req)\n\u001b[1;32m     83\u001b[0m \u001b[39mexcept\u001b[39;00m urllib\u001b[39m.\u001b[39merror\u001b[39m.\u001b[39mHTTPError \u001b[39mas\u001b[39;00m e:\n\u001b[1;32m     84\u001b[0m     code \u001b[39m=\u001b[39m e\u001b[39m.\u001b[39mcode\n",
      "File \u001b[0;32m~/miniforge3/lib/python3.9/urllib/request.py:214\u001b[0m, in \u001b[0;36murlopen\u001b[0;34m(url, data, timeout, cafile, capath, cadefault, context)\u001b[0m\n\u001b[1;32m    212\u001b[0m \u001b[39melse\u001b[39;00m:\n\u001b[1;32m    213\u001b[0m     opener \u001b[39m=\u001b[39m _opener\n\u001b[0;32m--> 214\u001b[0m \u001b[39mreturn\u001b[39;00m opener\u001b[39m.\u001b[39;49mopen(url, data, timeout)\n",
      "File \u001b[0;32m~/miniforge3/lib/python3.9/urllib/request.py:517\u001b[0m, in \u001b[0;36mOpenerDirector.open\u001b[0;34m(self, fullurl, data, timeout)\u001b[0m\n\u001b[1;32m    514\u001b[0m     req \u001b[39m=\u001b[39m meth(req)\n\u001b[1;32m    516\u001b[0m sys\u001b[39m.\u001b[39maudit(\u001b[39m'\u001b[39m\u001b[39murllib.Request\u001b[39m\u001b[39m'\u001b[39m, req\u001b[39m.\u001b[39mfull_url, req\u001b[39m.\u001b[39mdata, req\u001b[39m.\u001b[39mheaders, req\u001b[39m.\u001b[39mget_method())\n\u001b[0;32m--> 517\u001b[0m response \u001b[39m=\u001b[39m \u001b[39mself\u001b[39;49m\u001b[39m.\u001b[39;49m_open(req, data)\n\u001b[1;32m    519\u001b[0m \u001b[39m# post-process response\u001b[39;00m\n\u001b[1;32m    520\u001b[0m meth_name \u001b[39m=\u001b[39m protocol\u001b[39m+\u001b[39m\u001b[39m\"\u001b[39m\u001b[39m_response\u001b[39m\u001b[39m\"\u001b[39m\n",
      "File \u001b[0;32m~/miniforge3/lib/python3.9/urllib/request.py:534\u001b[0m, in \u001b[0;36mOpenerDirector._open\u001b[0;34m(self, req, data)\u001b[0m\n\u001b[1;32m    531\u001b[0m     \u001b[39mreturn\u001b[39;00m result\n\u001b[1;32m    533\u001b[0m protocol \u001b[39m=\u001b[39m req\u001b[39m.\u001b[39mtype\n\u001b[0;32m--> 534\u001b[0m result \u001b[39m=\u001b[39m \u001b[39mself\u001b[39;49m\u001b[39m.\u001b[39;49m_call_chain(\u001b[39mself\u001b[39;49m\u001b[39m.\u001b[39;49mhandle_open, protocol, protocol \u001b[39m+\u001b[39;49m\n\u001b[1;32m    535\u001b[0m                           \u001b[39m'\u001b[39;49m\u001b[39m_open\u001b[39;49m\u001b[39m'\u001b[39;49m, req)\n\u001b[1;32m    536\u001b[0m \u001b[39mif\u001b[39;00m result:\n\u001b[1;32m    537\u001b[0m     \u001b[39mreturn\u001b[39;00m result\n",
      "File \u001b[0;32m~/miniforge3/lib/python3.9/urllib/request.py:494\u001b[0m, in \u001b[0;36mOpenerDirector._call_chain\u001b[0;34m(self, chain, kind, meth_name, *args)\u001b[0m\n\u001b[1;32m    492\u001b[0m \u001b[39mfor\u001b[39;00m handler \u001b[39min\u001b[39;00m handlers:\n\u001b[1;32m    493\u001b[0m     func \u001b[39m=\u001b[39m \u001b[39mgetattr\u001b[39m(handler, meth_name)\n\u001b[0;32m--> 494\u001b[0m     result \u001b[39m=\u001b[39m func(\u001b[39m*\u001b[39;49margs)\n\u001b[1;32m    495\u001b[0m     \u001b[39mif\u001b[39;00m result \u001b[39mis\u001b[39;00m \u001b[39mnot\u001b[39;00m \u001b[39mNone\u001b[39;00m:\n\u001b[1;32m    496\u001b[0m         \u001b[39mreturn\u001b[39;00m result\n",
      "File \u001b[0;32m~/miniforge3/lib/python3.9/urllib/request.py:1389\u001b[0m, in \u001b[0;36mHTTPSHandler.https_open\u001b[0;34m(self, req)\u001b[0m\n\u001b[1;32m   1388\u001b[0m \u001b[39mdef\u001b[39;00m \u001b[39mhttps_open\u001b[39m(\u001b[39mself\u001b[39m, req):\n\u001b[0;32m-> 1389\u001b[0m     \u001b[39mreturn\u001b[39;00m \u001b[39mself\u001b[39;49m\u001b[39m.\u001b[39;49mdo_open(http\u001b[39m.\u001b[39;49mclient\u001b[39m.\u001b[39;49mHTTPSConnection, req,\n\u001b[1;32m   1390\u001b[0m         context\u001b[39m=\u001b[39;49m\u001b[39mself\u001b[39;49m\u001b[39m.\u001b[39;49m_context, check_hostname\u001b[39m=\u001b[39;49m\u001b[39mself\u001b[39;49m\u001b[39m.\u001b[39;49m_check_hostname)\n",
      "File \u001b[0;32m~/miniforge3/lib/python3.9/urllib/request.py:1350\u001b[0m, in \u001b[0;36mAbstractHTTPHandler.do_open\u001b[0;34m(self, http_class, req, **http_conn_args)\u001b[0m\n\u001b[1;32m   1348\u001b[0m     \u001b[39mexcept\u001b[39;00m \u001b[39mOSError\u001b[39;00m \u001b[39mas\u001b[39;00m err: \u001b[39m# timeout error\u001b[39;00m\n\u001b[1;32m   1349\u001b[0m         \u001b[39mraise\u001b[39;00m URLError(err)\n\u001b[0;32m-> 1350\u001b[0m     r \u001b[39m=\u001b[39m h\u001b[39m.\u001b[39;49mgetresponse()\n\u001b[1;32m   1351\u001b[0m \u001b[39mexcept\u001b[39;00m:\n\u001b[1;32m   1352\u001b[0m     h\u001b[39m.\u001b[39mclose()\n",
      "File \u001b[0;32m~/miniforge3/lib/python3.9/http/client.py:1371\u001b[0m, in \u001b[0;36mHTTPConnection.getresponse\u001b[0;34m(self)\u001b[0m\n\u001b[1;32m   1369\u001b[0m \u001b[39mtry\u001b[39;00m:\n\u001b[1;32m   1370\u001b[0m     \u001b[39mtry\u001b[39;00m:\n\u001b[0;32m-> 1371\u001b[0m         response\u001b[39m.\u001b[39;49mbegin()\n\u001b[1;32m   1372\u001b[0m     \u001b[39mexcept\u001b[39;00m \u001b[39mConnectionError\u001b[39;00m:\n\u001b[1;32m   1373\u001b[0m         \u001b[39mself\u001b[39m\u001b[39m.\u001b[39mclose()\n",
      "File \u001b[0;32m~/miniforge3/lib/python3.9/http/client.py:319\u001b[0m, in \u001b[0;36mHTTPResponse.begin\u001b[0;34m(self)\u001b[0m\n\u001b[1;32m    317\u001b[0m \u001b[39m# read until we get a non-100 response\u001b[39;00m\n\u001b[1;32m    318\u001b[0m \u001b[39mwhile\u001b[39;00m \u001b[39mTrue\u001b[39;00m:\n\u001b[0;32m--> 319\u001b[0m     version, status, reason \u001b[39m=\u001b[39m \u001b[39mself\u001b[39;49m\u001b[39m.\u001b[39;49m_read_status()\n\u001b[1;32m    320\u001b[0m     \u001b[39mif\u001b[39;00m status \u001b[39m!=\u001b[39m CONTINUE:\n\u001b[1;32m    321\u001b[0m         \u001b[39mbreak\u001b[39;00m\n",
      "File \u001b[0;32m~/miniforge3/lib/python3.9/http/client.py:288\u001b[0m, in \u001b[0;36mHTTPResponse._read_status\u001b[0;34m(self)\u001b[0m\n\u001b[1;32m    284\u001b[0m     \u001b[39mprint\u001b[39m(\u001b[39m\"\u001b[39m\u001b[39mreply:\u001b[39m\u001b[39m\"\u001b[39m, \u001b[39mrepr\u001b[39m(line))\n\u001b[1;32m    285\u001b[0m \u001b[39mif\u001b[39;00m \u001b[39mnot\u001b[39;00m line:\n\u001b[1;32m    286\u001b[0m     \u001b[39m# Presumably, the server closed the connection before\u001b[39;00m\n\u001b[1;32m    287\u001b[0m     \u001b[39m# sending a valid response.\u001b[39;00m\n\u001b[0;32m--> 288\u001b[0m     \u001b[39mraise\u001b[39;00m RemoteDisconnected(\u001b[39m\"\u001b[39m\u001b[39mRemote end closed connection without\u001b[39m\u001b[39m\"\u001b[39m\n\u001b[1;32m    289\u001b[0m                              \u001b[39m\"\u001b[39m\u001b[39m response\u001b[39m\u001b[39m\"\u001b[39m)\n\u001b[1;32m    290\u001b[0m \u001b[39mtry\u001b[39;00m:\n\u001b[1;32m    291\u001b[0m     version, status, reason \u001b[39m=\u001b[39m line\u001b[39m.\u001b[39msplit(\u001b[39mNone\u001b[39;00m, \u001b[39m2\u001b[39m)\n",
      "\u001b[0;31mRemoteDisconnected\u001b[0m: Remote end closed connection without response"
     ]
    }
   ],
   "source": [
    "transferAssetsBack(algod_client, accounts[1], accounts[0], asset_id)"
   ]
  },
  {
   "cell_type": "code",
   "execution_count": 55,
   "metadata": {},
   "outputs": [
    {
     "name": "stdout",
     "output_type": "stream",
     "text": [
      "--------------------------------------------\n",
      "Destroying Alice's token......\n",
      "7OIR7IGMHRASZS46W4GYRDV6G2MOE66XGSICTTVKFM4CVTBABQOQ\n"
     ]
    },
    {
     "ename": "RemoteDisconnected",
     "evalue": "Remote end closed connection without response",
     "output_type": "error",
     "traceback": [
      "\u001b[0;31m---------------------------------------------------------------------------\u001b[0m",
      "\u001b[0;31mRemoteDisconnected\u001b[0m                        Traceback (most recent call last)",
      "Cell \u001b[0;32mIn [55], line 1\u001b[0m\n\u001b[0;32m----> 1\u001b[0m destroyAsset(algod_client, accounts[\u001b[39m0\u001b[39;49m], asset_id, accounts[\u001b[39m1\u001b[39;49m])\n\u001b[1;32m      2\u001b[0m closeout_account(algod_client, accounts[\u001b[39m0\u001b[39m])\n\u001b[1;32m      3\u001b[0m closeout_account(algod_client, accounts[\u001b[39m1\u001b[39m])\n",
      "Cell \u001b[0;32mIn [13], line 47\u001b[0m, in \u001b[0;36mdestroyAsset\u001b[0;34m(algod_client, alice, asset_id, bob)\u001b[0m\n\u001b[1;32m     45\u001b[0m \u001b[39mprint\u001b[39m(txid)\n\u001b[1;32m     46\u001b[0m \u001b[39m# Wait for the transaction to be confirmed\u001b[39;00m\n\u001b[0;32m---> 47\u001b[0m confirmed_txn \u001b[39m=\u001b[39m wait_for_confirmation(algod_client, txid, \u001b[39m4\u001b[39;49m)\n\u001b[1;32m     48\u001b[0m \u001b[39mprint\u001b[39m(\u001b[39m\"\u001b[39m\u001b[39mTXID: \u001b[39m\u001b[39m\"\u001b[39m, txid)\n\u001b[1;32m     49\u001b[0m \u001b[39mprint\u001b[39m(\u001b[39m\"\u001b[39m\u001b[39mResult confirmed in round: \u001b[39m\u001b[39m{}\u001b[39;00m\u001b[39m\"\u001b[39m\u001b[39m.\u001b[39mformat(confirmed_txn[\u001b[39m'\u001b[39m\u001b[39mconfirmed-round\u001b[39m\u001b[39m'\u001b[39m]))\n",
      "File \u001b[0;32m~/TENAC/week-11-12/week12/smart-contracts-for-educational-certificates/venv/lib/python3.9/site-packages/algosdk/future/transaction.py:3033\u001b[0m, in \u001b[0;36mwait_for_confirmation\u001b[0;34m(algod_client, txid, wait_rounds, **kwargs)\u001b[0m\n\u001b[1;32m   3028\u001b[0m \u001b[39mif\u001b[39;00m wait_rounds \u001b[39m>\u001b[39m \u001b[39m0\u001b[39m \u001b[39mand\u001b[39;00m current_round \u001b[39m>\u001b[39m last_round \u001b[39m+\u001b[39m wait_rounds:\n\u001b[1;32m   3029\u001b[0m     \u001b[39mraise\u001b[39;00m error\u001b[39m.\u001b[39mConfirmationTimeoutError(\n\u001b[1;32m   3030\u001b[0m         \u001b[39mf\u001b[39m\u001b[39m\"\u001b[39m\u001b[39mWait for transaction id \u001b[39m\u001b[39m{\u001b[39;00mtxid\u001b[39m}\u001b[39;00m\u001b[39m timed out\u001b[39m\u001b[39m\"\u001b[39m\n\u001b[1;32m   3031\u001b[0m     )\n\u001b[0;32m-> 3033\u001b[0m tx_info \u001b[39m=\u001b[39m algod_client\u001b[39m.\u001b[39;49mpending_transaction_info(txid, \u001b[39m*\u001b[39;49m\u001b[39m*\u001b[39;49mkwargs)\n\u001b[1;32m   3035\u001b[0m \u001b[39m# The transaction has been confirmed\u001b[39;00m\n\u001b[1;32m   3036\u001b[0m \u001b[39mif\u001b[39;00m \u001b[39m\"\u001b[39m\u001b[39mconfirmed-round\u001b[39m\u001b[39m\"\u001b[39m \u001b[39min\u001b[39;00m tx_info:\n",
      "File \u001b[0;32m~/TENAC/week-11-12/week12/smart-contracts-for-educational-certificates/venv/lib/python3.9/site-packages/algosdk/v2client/algod.py:273\u001b[0m, in \u001b[0;36mAlgodClient.pending_transaction_info\u001b[0;34m(self, transaction_id, response_format, **kwargs)\u001b[0m\n\u001b[1;32m    271\u001b[0m req \u001b[39m=\u001b[39m \u001b[39m\"\u001b[39m\u001b[39m/transactions/pending/\u001b[39m\u001b[39m\"\u001b[39m \u001b[39m+\u001b[39m transaction_id\n\u001b[1;32m    272\u001b[0m query \u001b[39m=\u001b[39m {\u001b[39m\"\u001b[39m\u001b[39mformat\u001b[39m\u001b[39m\"\u001b[39m: response_format}\n\u001b[0;32m--> 273\u001b[0m res \u001b[39m=\u001b[39m \u001b[39mself\u001b[39;49m\u001b[39m.\u001b[39;49malgod_request(\n\u001b[1;32m    274\u001b[0m     \u001b[39m\"\u001b[39;49m\u001b[39mGET\u001b[39;49m\u001b[39m\"\u001b[39;49m, req, params\u001b[39m=\u001b[39;49mquery, response_format\u001b[39m=\u001b[39;49mresponse_format, \u001b[39m*\u001b[39;49m\u001b[39m*\u001b[39;49mkwargs\n\u001b[1;32m    275\u001b[0m )\n\u001b[1;32m    276\u001b[0m \u001b[39mreturn\u001b[39;00m res\n",
      "File \u001b[0;32m~/TENAC/week-11-12/week12/smart-contracts-for-educational-certificates/venv/lib/python3.9/site-packages/algosdk/v2client/algod.py:82\u001b[0m, in \u001b[0;36mAlgodClient.algod_request\u001b[0;34m(self, method, requrl, params, data, headers, response_format)\u001b[0m\n\u001b[1;32m     74\u001b[0m req \u001b[39m=\u001b[39m Request(\n\u001b[1;32m     75\u001b[0m     \u001b[39mself\u001b[39m\u001b[39m.\u001b[39malgod_address \u001b[39m+\u001b[39m requrl,\n\u001b[1;32m     76\u001b[0m     headers\u001b[39m=\u001b[39mheader,\n\u001b[1;32m     77\u001b[0m     method\u001b[39m=\u001b[39mmethod,\n\u001b[1;32m     78\u001b[0m     data\u001b[39m=\u001b[39mdata,\n\u001b[1;32m     79\u001b[0m )\n\u001b[1;32m     81\u001b[0m \u001b[39mtry\u001b[39;00m:\n\u001b[0;32m---> 82\u001b[0m     resp \u001b[39m=\u001b[39m urlopen(req)\n\u001b[1;32m     83\u001b[0m \u001b[39mexcept\u001b[39;00m urllib\u001b[39m.\u001b[39merror\u001b[39m.\u001b[39mHTTPError \u001b[39mas\u001b[39;00m e:\n\u001b[1;32m     84\u001b[0m     code \u001b[39m=\u001b[39m e\u001b[39m.\u001b[39mcode\n",
      "File \u001b[0;32m~/miniforge3/lib/python3.9/urllib/request.py:214\u001b[0m, in \u001b[0;36murlopen\u001b[0;34m(url, data, timeout, cafile, capath, cadefault, context)\u001b[0m\n\u001b[1;32m    212\u001b[0m \u001b[39melse\u001b[39;00m:\n\u001b[1;32m    213\u001b[0m     opener \u001b[39m=\u001b[39m _opener\n\u001b[0;32m--> 214\u001b[0m \u001b[39mreturn\u001b[39;00m opener\u001b[39m.\u001b[39;49mopen(url, data, timeout)\n",
      "File \u001b[0;32m~/miniforge3/lib/python3.9/urllib/request.py:517\u001b[0m, in \u001b[0;36mOpenerDirector.open\u001b[0;34m(self, fullurl, data, timeout)\u001b[0m\n\u001b[1;32m    514\u001b[0m     req \u001b[39m=\u001b[39m meth(req)\n\u001b[1;32m    516\u001b[0m sys\u001b[39m.\u001b[39maudit(\u001b[39m'\u001b[39m\u001b[39murllib.Request\u001b[39m\u001b[39m'\u001b[39m, req\u001b[39m.\u001b[39mfull_url, req\u001b[39m.\u001b[39mdata, req\u001b[39m.\u001b[39mheaders, req\u001b[39m.\u001b[39mget_method())\n\u001b[0;32m--> 517\u001b[0m response \u001b[39m=\u001b[39m \u001b[39mself\u001b[39;49m\u001b[39m.\u001b[39;49m_open(req, data)\n\u001b[1;32m    519\u001b[0m \u001b[39m# post-process response\u001b[39;00m\n\u001b[1;32m    520\u001b[0m meth_name \u001b[39m=\u001b[39m protocol\u001b[39m+\u001b[39m\u001b[39m\"\u001b[39m\u001b[39m_response\u001b[39m\u001b[39m\"\u001b[39m\n",
      "File \u001b[0;32m~/miniforge3/lib/python3.9/urllib/request.py:534\u001b[0m, in \u001b[0;36mOpenerDirector._open\u001b[0;34m(self, req, data)\u001b[0m\n\u001b[1;32m    531\u001b[0m     \u001b[39mreturn\u001b[39;00m result\n\u001b[1;32m    533\u001b[0m protocol \u001b[39m=\u001b[39m req\u001b[39m.\u001b[39mtype\n\u001b[0;32m--> 534\u001b[0m result \u001b[39m=\u001b[39m \u001b[39mself\u001b[39;49m\u001b[39m.\u001b[39;49m_call_chain(\u001b[39mself\u001b[39;49m\u001b[39m.\u001b[39;49mhandle_open, protocol, protocol \u001b[39m+\u001b[39;49m\n\u001b[1;32m    535\u001b[0m                           \u001b[39m'\u001b[39;49m\u001b[39m_open\u001b[39;49m\u001b[39m'\u001b[39;49m, req)\n\u001b[1;32m    536\u001b[0m \u001b[39mif\u001b[39;00m result:\n\u001b[1;32m    537\u001b[0m     \u001b[39mreturn\u001b[39;00m result\n",
      "File \u001b[0;32m~/miniforge3/lib/python3.9/urllib/request.py:494\u001b[0m, in \u001b[0;36mOpenerDirector._call_chain\u001b[0;34m(self, chain, kind, meth_name, *args)\u001b[0m\n\u001b[1;32m    492\u001b[0m \u001b[39mfor\u001b[39;00m handler \u001b[39min\u001b[39;00m handlers:\n\u001b[1;32m    493\u001b[0m     func \u001b[39m=\u001b[39m \u001b[39mgetattr\u001b[39m(handler, meth_name)\n\u001b[0;32m--> 494\u001b[0m     result \u001b[39m=\u001b[39m func(\u001b[39m*\u001b[39;49margs)\n\u001b[1;32m    495\u001b[0m     \u001b[39mif\u001b[39;00m result \u001b[39mis\u001b[39;00m \u001b[39mnot\u001b[39;00m \u001b[39mNone\u001b[39;00m:\n\u001b[1;32m    496\u001b[0m         \u001b[39mreturn\u001b[39;00m result\n",
      "File \u001b[0;32m~/miniforge3/lib/python3.9/urllib/request.py:1389\u001b[0m, in \u001b[0;36mHTTPSHandler.https_open\u001b[0;34m(self, req)\u001b[0m\n\u001b[1;32m   1388\u001b[0m \u001b[39mdef\u001b[39;00m \u001b[39mhttps_open\u001b[39m(\u001b[39mself\u001b[39m, req):\n\u001b[0;32m-> 1389\u001b[0m     \u001b[39mreturn\u001b[39;00m \u001b[39mself\u001b[39;49m\u001b[39m.\u001b[39;49mdo_open(http\u001b[39m.\u001b[39;49mclient\u001b[39m.\u001b[39;49mHTTPSConnection, req,\n\u001b[1;32m   1390\u001b[0m         context\u001b[39m=\u001b[39;49m\u001b[39mself\u001b[39;49m\u001b[39m.\u001b[39;49m_context, check_hostname\u001b[39m=\u001b[39;49m\u001b[39mself\u001b[39;49m\u001b[39m.\u001b[39;49m_check_hostname)\n",
      "File \u001b[0;32m~/miniforge3/lib/python3.9/urllib/request.py:1350\u001b[0m, in \u001b[0;36mAbstractHTTPHandler.do_open\u001b[0;34m(self, http_class, req, **http_conn_args)\u001b[0m\n\u001b[1;32m   1348\u001b[0m     \u001b[39mexcept\u001b[39;00m \u001b[39mOSError\u001b[39;00m \u001b[39mas\u001b[39;00m err: \u001b[39m# timeout error\u001b[39;00m\n\u001b[1;32m   1349\u001b[0m         \u001b[39mraise\u001b[39;00m URLError(err)\n\u001b[0;32m-> 1350\u001b[0m     r \u001b[39m=\u001b[39m h\u001b[39m.\u001b[39;49mgetresponse()\n\u001b[1;32m   1351\u001b[0m \u001b[39mexcept\u001b[39;00m:\n\u001b[1;32m   1352\u001b[0m     h\u001b[39m.\u001b[39mclose()\n",
      "File \u001b[0;32m~/miniforge3/lib/python3.9/http/client.py:1371\u001b[0m, in \u001b[0;36mHTTPConnection.getresponse\u001b[0;34m(self)\u001b[0m\n\u001b[1;32m   1369\u001b[0m \u001b[39mtry\u001b[39;00m:\n\u001b[1;32m   1370\u001b[0m     \u001b[39mtry\u001b[39;00m:\n\u001b[0;32m-> 1371\u001b[0m         response\u001b[39m.\u001b[39;49mbegin()\n\u001b[1;32m   1372\u001b[0m     \u001b[39mexcept\u001b[39;00m \u001b[39mConnectionError\u001b[39;00m:\n\u001b[1;32m   1373\u001b[0m         \u001b[39mself\u001b[39m\u001b[39m.\u001b[39mclose()\n",
      "File \u001b[0;32m~/miniforge3/lib/python3.9/http/client.py:319\u001b[0m, in \u001b[0;36mHTTPResponse.begin\u001b[0;34m(self)\u001b[0m\n\u001b[1;32m    317\u001b[0m \u001b[39m# read until we get a non-100 response\u001b[39;00m\n\u001b[1;32m    318\u001b[0m \u001b[39mwhile\u001b[39;00m \u001b[39mTrue\u001b[39;00m:\n\u001b[0;32m--> 319\u001b[0m     version, status, reason \u001b[39m=\u001b[39m \u001b[39mself\u001b[39;49m\u001b[39m.\u001b[39;49m_read_status()\n\u001b[1;32m    320\u001b[0m     \u001b[39mif\u001b[39;00m status \u001b[39m!=\u001b[39m CONTINUE:\n\u001b[1;32m    321\u001b[0m         \u001b[39mbreak\u001b[39;00m\n",
      "File \u001b[0;32m~/miniforge3/lib/python3.9/http/client.py:288\u001b[0m, in \u001b[0;36mHTTPResponse._read_status\u001b[0;34m(self)\u001b[0m\n\u001b[1;32m    284\u001b[0m     \u001b[39mprint\u001b[39m(\u001b[39m\"\u001b[39m\u001b[39mreply:\u001b[39m\u001b[39m\"\u001b[39m, \u001b[39mrepr\u001b[39m(line))\n\u001b[1;32m    285\u001b[0m \u001b[39mif\u001b[39;00m \u001b[39mnot\u001b[39;00m line:\n\u001b[1;32m    286\u001b[0m     \u001b[39m# Presumably, the server closed the connection before\u001b[39;00m\n\u001b[1;32m    287\u001b[0m     \u001b[39m# sending a valid response.\u001b[39;00m\n\u001b[0;32m--> 288\u001b[0m     \u001b[39mraise\u001b[39;00m RemoteDisconnected(\u001b[39m\"\u001b[39m\u001b[39mRemote end closed connection without\u001b[39m\u001b[39m\"\u001b[39m\n\u001b[1;32m    289\u001b[0m                              \u001b[39m\"\u001b[39m\u001b[39m response\u001b[39m\u001b[39m\"\u001b[39m)\n\u001b[1;32m    290\u001b[0m \u001b[39mtry\u001b[39;00m:\n\u001b[1;32m    291\u001b[0m     version, status, reason \u001b[39m=\u001b[39m line\u001b[39m.\u001b[39msplit(\u001b[39mNone\u001b[39;00m, \u001b[39m2\u001b[39m)\n",
      "\u001b[0;31mRemoteDisconnected\u001b[0m: Remote end closed connection without response"
     ]
    }
   ],
   "source": [
    "destroyAsset(algod_client, accounts[0], asset_id, accounts[1])\n",
    "closeout_account(algod_client, accounts[0])\n",
    "closeout_account(algod_client, accounts[1])"
   ]
  }
 ],
 "metadata": {
  "kernelspec": {
   "display_name": "Python 3.9.7 ('venv': venv)",
   "language": "python",
   "name": "python3"
  },
  "language_info": {
   "codemirror_mode": {
    "name": "ipython",
    "version": 3
   },
   "file_extension": ".py",
   "mimetype": "text/x-python",
   "name": "python",
   "nbconvert_exporter": "python",
   "pygments_lexer": "ipython3",
   "version": "3.9.7"
  },
  "orig_nbformat": 4,
  "vscode": {
   "interpreter": {
    "hash": "ddb0c29e66dd8476ff85930aa4a5bdf365c550521f107110109657273c44a45a"
   }
  }
 },
 "nbformat": 4,
 "nbformat_minor": 2
}
