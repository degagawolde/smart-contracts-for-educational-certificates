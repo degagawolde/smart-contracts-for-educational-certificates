{
 "cells": [
  {
   "cell_type": "code",
   "execution_count": 2,
   "metadata": {},
   "outputs": [],
   "source": [
    "import json\n",
    "import hashlib\n",
    "import os\n",
    "from algosdk import mnemonic\n",
    "from algosdk.v2client import algod\n",
    "from algosdk.future.transaction import AssetConfigTxn, wait_for_confirmation"
   ]
  },
  {
   "cell_type": "code",
   "execution_count": 3,
   "metadata": {},
   "outputs": [],
   "source": [
    "import sys\n",
    "sys.path.append('../scripts')\n",
    "from create_account import create_account\n",
    "from closeout_account import closeout_account\n",
    "from create_nfts import print_created_asset, print_asset_holding"
   ]
  },
  {
   "cell_type": "code",
   "execution_count": 13,
   "metadata": {},
   "outputs": [
    {
     "name": "stdout",
     "output_type": "stream",
     "text": [
      "--------------------------------------------\n",
      "Creating account...\n",
      "My address: I5XCXAH33IQAWY574KUM3R3OZNSDMWIWB5WBZ7FXPHNZCWBBQD5F6LYR4A\n",
      "Account balance: 0 microAlgos\n",
      "\n",
      "Go to the below link to fund the created account using testnet faucet: \n",
      " https://dispenser.testnet.aws.algodev.network/?account=I5XCXAH33IQAWY574KUM3R3OZNSDMWIWB5WBZ7FXPHNZCWBBQD5F6LYR4A\n",
      "Fund transfer in process...\n",
      "Fund transferred!\n",
      "Account balance: 5000000 microAlgos\n",
      "\n"
     ]
    }
   ],
   "source": [
    "# For ease of reference, add account public and private keys to\n",
    "# an accounts dict.\n",
    "print(\"--------------------------------------------\")\n",
    "print(\"Creating account...\")\n",
    "accounts = {}\n",
    "m = create_account()\n",
    "accounts[1] = {}\n",
    "accounts[1]['pk'] = mnemonic.to_public_key(m)\n",
    "accounts[1]['sk'] = mnemonic.to_private_key(m)"
   ]
  },
  {
   "cell_type": "code",
   "execution_count": 4,
   "metadata": {},
   "outputs": [],
   "source": [
    "\n",
    "# Change algod_token and algod_address to connect to a different client\n",
    "algod_token = \"2f3203f21e738a1de6110eba6984f9d03e5a95d7a577b34616854064cf2c0e7b\"\n",
    "algod_address = \"https://academy-algod.dev.aws.algodev.network/\"\n",
    "\n",
    "algod_client = algod.AlgodClient(algod_token, algod_address)"
   ]
  },
  {
   "cell_type": "markdown",
   "metadata": {},
   "source": [
    "## Creating Asset"
   ]
  },
  {
   "cell_type": "code",
   "execution_count": 21,
   "metadata": {},
   "outputs": [
    {
     "name": "stdout",
     "output_type": "stream",
     "text": [
      "--------------------------------------------\n",
      "Creating Asset...\n"
     ]
    }
   ],
   "source": [
    "print(\"--------------------------------------------\")\n",
    "print(\"Creating Asset...\")\n",
    "# CREATE ASSET\n",
    "# Get network params for transactions before every transaction.\n",
    "params = algod_client.suggested_params()\n",
    "# comment these two lines if you want to use suggested params\n",
    "# params.fee = 1000\n",
    "# params.flat_fee = True\n",
    "    \n",
    "# JSON file\n",
    "\n",
    "f = open ('../data/aliceNFTmetadata.json', \"r\")\n",
    "\n",
    "# Reading from file\n",
    "metadataJSON = json.loads(f.read())\n",
    "metadataStr = json.dumps(metadataJSON)\n",
    "\n",
    "hash = hashlib.new(\"sha512_256\")\n",
    "hash.update(b\"arc0003/amj\")\n",
    "hash.update(metadataStr.encode(\"utf-8\"))\n",
    "json_metadata_hash = hash.digest()\n",
    "\n"
   ]
  },
  {
   "cell_type": "code",
   "execution_count": 22,
   "metadata": {},
   "outputs": [],
   "source": [
    "# Account 1 creates an asset called latinum and\n",
    "# sets Account 1 as the manager, reserve, freeze, and clawback address.\n",
    "# Asset Creation transaction\n",
    "txn = AssetConfigTxn(\n",
    "    sender=accounts[1]['pk'],\n",
    "    sp=params,\n",
    "    total=1,\n",
    "    default_frozen=False,\n",
    "    unit_name=\"ALICE001\",\n",
    "    asset_name=\"Alice's Artwork 001\",\n",
    "    manager=accounts[1]['pk'],\n",
    "    reserve=None,\n",
    "    freeze=None,\n",
    "    clawback=None,\n",
    "    strict_empty_address_check=False,\n",
    "    url=\"https://drive.google.com/file/d/1-6ArwT3cmKDOQlOr6AEocSsqIUhjc4Os/view?usp=share_link\", \n",
    "    metadata_hash=json_metadata_hash,\n",
    "    decimals=0)"
   ]
  },
  {
   "cell_type": "code",
   "execution_count": 25,
   "metadata": {},
   "outputs": [
    {
     "name": "stdout",
     "output_type": "stream",
     "text": [
      "Asset Creation Transaction ID: 4QC3FBP6NK3V5HPEWQQFYU2XGSFACZAHCFCH24E2HCY2MFI4MZ3A\n",
      "TXID:  4QC3FBP6NK3V5HPEWQQFYU2XGSFACZAHCFCH24E2HCY2MFI4MZ3A\n",
      "Result confirmed in round: 25439683\n"
     ]
    }
   ],
   "source": [
    "# Sign with secret key of creator\n",
    "stxn = txn.sign(accounts[1]['sk'])\n",
    "\n",
    "# Send the transaction to the network and retrieve the txid.\n",
    "txid = algod_client.send_transaction(stxn)\n",
    "print(\"Asset Creation Transaction ID: {}\".format(txid))\n",
    "\n",
    "# Wait for the transaction to be confirmed\n",
    "confirmed_txn = wait_for_confirmation(algod_client, txid, 4)  \n",
    "print(\"TXID: \", txid)\n",
    "print(\"Result confirmed in round: {}\".format(confirmed_txn['confirmed-round']))\n"
   ]
  },
  {
   "cell_type": "code",
   "execution_count": 26,
   "metadata": {},
   "outputs": [
    {
     "name": "stdout",
     "output_type": "stream",
     "text": [
      "Asset ID: 121850449\n",
      "{\n",
      "    \"creator\": \"I5XCXAH33IQAWY574KUM3R3OZNSDMWIWB5WBZ7FXPHNZCWBBQD5F6LYR4A\",\n",
      "    \"decimals\": 0,\n",
      "    \"default-frozen\": false,\n",
      "    \"manager\": \"I5XCXAH33IQAWY574KUM3R3OZNSDMWIWB5WBZ7FXPHNZCWBBQD5F6LYR4A\",\n",
      "    \"metadata-hash\": \"dtbFu/HZOl7mEmR0an1OrDN4vMo2SQeu1690lqNwzOs=\",\n",
      "    \"name\": \"Alice's Artwork 001\",\n",
      "    \"name-b64\": \"QWxpY2UncyBBcnR3b3JrIDAwMQ==\",\n",
      "    \"total\": 1,\n",
      "    \"unit-name\": \"ALICE001\",\n",
      "    \"unit-name-b64\": \"QUxJQ0UwMDE=\",\n",
      "    \"url\": \"https://path/to/my/asset/details\",\n",
      "    \"url-b64\": \"aHR0cHM6Ly9wYXRoL3RvL215L2Fzc2V0L2RldGFpbHM=\"\n",
      "}\n",
      "Asset ID: 121850449\n",
      "{\n",
      "    \"amount\": 1,\n",
      "    \"asset-id\": 121850449,\n",
      "    \"is-frozen\": false\n",
      "}\n",
      "--------------------------------------------\n",
      "You have successfully created your own Non-fungible token! For the purpose of the demo, we will now delete the asset.\n",
      "Deleting Asset...\n"
     ]
    }
   ],
   "source": [
    "try:\n",
    "    # Pull account info for the creator\n",
    "    # account_info = algod_client.account_info(accounts[1]['pk'])\n",
    "    # get asset_id from tx\n",
    "    # Get the new asset's information from the creator account\n",
    "    ptx = algod_client.pending_transaction_info(txid)\n",
    "    asset_id = ptx[\"asset-index\"]\n",
    "    print_created_asset(algod_client, accounts[1]['pk'], asset_id)\n",
    "    print_asset_holding(algod_client, accounts[1]['pk'], asset_id)\n",
    "except Exception as e:\n",
    "    print(e)\n",
    "\n",
    "print(\"--------------------------------------------\")\n",
    "print(\"You have successfully created your own Non-fungible token! For the purpose of the demo, we will now delete the asset.\")\n",
    "print(\"Deleting Asset...\")"
   ]
  },
  {
   "cell_type": "code",
   "execution_count": null,
   "metadata": {},
   "outputs": [],
   "source": []
  },
  {
   "cell_type": "code",
   "execution_count": 19,
   "metadata": {},
   "outputs": [
    {
     "name": "stdout",
     "output_type": "stream",
     "text": [
      "Asset Destroy Transaction ID: GR4WHDRYV5YD46IUI24GHPLZFR3BFLVIILYKZCBQDHFMCD2K4BXQ\n",
      "TXID:  GR4WHDRYV5YD46IUI24GHPLZFR3BFLVIILYKZCBQDHFMCD2K4BXQ\n",
      "Result confirmed in round: 25439606\n",
      "Asset is deleted.\n",
      "--------------------------------------------\n",
      "Sending closeout transaction back to the testnet dispenser...\n",
      "--------------------------------------------\n",
      "Closing out account......\n",
      "Transaction Info:\n",
      "Signed transaction with txID: Z73TNLLXUADTSYENPJDD3EUNR5WU32RTK2ZZC7XITYHEFQMWRDXA\n",
      "TXID:  Z73TNLLXUADTSYENPJDD3EUNR5WU32RTK2ZZC7XITYHEFQMWRDXA\n",
      "Result confirmed in round: 25439609\n",
      "Account balance: 0 microAlgos\n",
      "\n",
      "Account Closed\n"
     ]
    }
   ],
   "source": [
    "# Asset destroy transaction\n",
    "txn = AssetConfigTxn(\n",
    "    sender=accounts[1]['pk'],\n",
    "    sp=params,\n",
    "    index=asset_id,\n",
    "    strict_empty_address_check=False\n",
    "    )\n",
    "\n",
    "# Sign with secret key of creator\n",
    "stxn = txn.sign(accounts[1]['sk'])\n",
    "# Send the transaction to the network and retrieve the txid.\n",
    "txid = algod_client.send_transaction(stxn)\n",
    "print(\"Asset Destroy Transaction ID: {}\".format(txid))\n",
    "\n",
    "# Wait for the transaction to be confirmed\n",
    "confirmed_txn = wait_for_confirmation(algod_client, txid, 4)  \n",
    "print(\"TXID: \", txid)\n",
    "print(\"Result confirmed in round: {}\".format(confirmed_txn['confirmed-round']))\n",
    "# Asset was deleted.\n",
    "try:\n",
    "    print_asset_holding(algod_client, accounts[1]['pk'], asset_id)\n",
    "    print_created_asset(algod_client, accounts[1]['pk'], asset_id)\n",
    "    print(\"Asset is deleted.\")\n",
    "except Exception as e:\n",
    "    print(e)\n",
    "\n",
    "print(\"--------------------------------------------\")\n",
    "print(\"Sending closeout transaction back to the testnet dispenser...\")\n",
    "closeout_account(algod_client, accounts[1] )\n"
   ]
  },
  {
   "cell_type": "code",
   "execution_count": 21,
   "metadata": {},
   "outputs": [
    {
     "name": "stdout",
     "output_type": "stream",
     "text": [
      "{'address': 'I5XCXAH33IQAWY574KUM3R3OZNSDMWIWB5WBZ7FXPHNZCWBBQD5F6LYR4A', 'amount': 4999000, 'amount-without-pending-rewards': 4999000, 'apps-local-state': [], 'apps-total-schema': {'num-byte-slice': 0, 'num-uint': 0}, 'assets': [{'amount': 1, 'asset-id': 121850449, 'is-frozen': False}], 'created-apps': [], 'created-assets': [{'index': 121850449, 'params': {'creator': 'I5XCXAH33IQAWY574KUM3R3OZNSDMWIWB5WBZ7FXPHNZCWBBQD5F6LYR4A', 'decimals': 0, 'default-frozen': False, 'manager': 'I5XCXAH33IQAWY574KUM3R3OZNSDMWIWB5WBZ7FXPHNZCWBBQD5F6LYR4A', 'metadata-hash': 'dtbFu/HZOl7mEmR0an1OrDN4vMo2SQeu1690lqNwzOs=', 'name': \"Alice's Artwork 001\", 'name-b64': 'QWxpY2UncyBBcnR3b3JrIDAwMQ==', 'total': 1, 'unit-name': 'ALICE001', 'unit-name-b64': 'QUxJQ0UwMDE=', 'url': 'https://path/to/my/asset/details', 'url-b64': 'aHR0cHM6Ly9wYXRoL3RvL215L2Fzc2V0L2RldGFpbHM='}}], 'min-balance': 200000, 'pending-rewards': 0, 'reward-base': 27521, 'rewards': 0, 'round': 25440549, 'status': 'Offline', 'total-apps-opted-in': 0, 'total-assets-opted-in': 1, 'total-created-apps': 0, 'total-created-assets': 1}\n",
      "Asset ID: 121850449\n",
      "{\n",
      "    \"amount\": 1,\n",
      "    \"asset-id\": 121850449,\n",
      "    \"is-frozen\": false\n",
      "}\n",
      "URL: https://path/to/my/asset/details\n"
     ]
    }
   ],
   "source": [
    "# Change algod_token and algod_address to connect to a different client\n",
    "algod_token = \"2f3203f21e738a1de6110eba6984f9d03e5a95d7a577b34616854064cf2c0e7b\"\n",
    "algod_address = \"https://academy-algod.dev.aws.algodev.network/\"\n",
    "\n",
    "algod_client = algod.AlgodClient(algod_token, algod_address)\n",
    "account_info = algod_client.account_info('I5XCXAH33IQAWY574KUM3R3OZNSDMWIWB5WBZ7FXPHNZCWBBQD5F6LYR4A')\n",
    "idx = 0\n",
    "assetid = 121850449\n",
    "for my_account_info in account_info['assets']:\n",
    "    scrutinized_asset = account_info['assets'][idx]\n",
    "    print(account_info)\n",
    "    idx = idx + 1        \n",
    "    if (scrutinized_asset['asset-id'] == assetid):\n",
    "        print(\"Asset ID: {}\".format(scrutinized_asset['asset-id']))\n",
    "        print(json.dumps(scrutinized_asset, indent=4))\n",
    "        print(\"URL: {}\".format(account_info['created-assets'][0]['params']['url']))\n",
    "        break"
   ]
  }
 ],
 "metadata": {
  "kernelspec": {
   "display_name": "Python 3.9.7 ('venv': venv)",
   "language": "python",
   "name": "python3"
  },
  "language_info": {
   "codemirror_mode": {
    "name": "ipython",
    "version": 3
   },
   "file_extension": ".py",
   "mimetype": "text/x-python",
   "name": "python",
   "nbconvert_exporter": "python",
   "pygments_lexer": "ipython3",
   "version": "3.9.7"
  },
  "orig_nbformat": 4,
  "vscode": {
   "interpreter": {
    "hash": "ddb0c29e66dd8476ff85930aa4a5bdf365c550521f107110109657273c44a45a"
   }
  }
 },
 "nbformat": 4,
 "nbformat_minor": 2
}
