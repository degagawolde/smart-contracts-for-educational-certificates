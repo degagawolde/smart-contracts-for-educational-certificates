{
 "cells": [
  {
   "cell_type": "code",
   "execution_count": 22,
   "metadata": {},
   "outputs": [],
   "source": [
    "import json\n",
    "import hashlib\n",
    "import os\n",
    "from algosdk import mnemonic\n",
    "from algosdk.v2client import algod\n",
    "from algosdk.future.transaction import AssetConfigTxn, wait_for_confirmation"
   ]
  },
  {
   "cell_type": "code",
   "execution_count": 23,
   "metadata": {},
   "outputs": [],
   "source": [
    "import sys\n",
    "sys.path.append('../scripts')\n",
    "from create_account import create_account\n",
    "from closeout_account import closeout_account\n",
    "from create_nfts import print_created_asset, print_asset_holding"
   ]
  },
  {
   "cell_type": "code",
   "execution_count": 24,
   "metadata": {},
   "outputs": [
    {
     "name": "stdout",
     "output_type": "stream",
     "text": [
      "--------------------------------------------\n",
      "Creating account...\n",
      "My address: 3EVANIMZYTOSPMHNAGBBQNZH5T5HV227WDEVOEXWCLWEAQEPWZOUY6GTBU\n",
      "Account balance: 0 microAlgos\n",
      "\n",
      "Go to the below link to fund the created account using testnet faucet: \n",
      " https://dispenser.testnet.aws.algodev.network/?account=3EVANIMZYTOSPMHNAGBBQNZH5T5HV227WDEVOEXWCLWEAQEPWZOUY6GTBU\n",
      "Fund transfer in process...\n",
      "Fund transferred!\n",
      "Account balance: 5000000 microAlgos\n",
      "\n"
     ]
    }
   ],
   "source": [
    "# For ease of reference, add account public and private keys to\n",
    "# an accounts dict.\n",
    "print(\"--------------------------------------------\")\n",
    "print(\"Creating account...\")\n",
    "accounts = {}\n",
    "m = create_account()\n",
    "accounts[1] = {}\n",
    "accounts[1]['pk'] = mnemonic.to_public_key(m)\n",
    "accounts[1]['sk'] = mnemonic.to_private_key(m)"
   ]
  },
  {
   "cell_type": "code",
   "execution_count": 25,
   "metadata": {},
   "outputs": [],
   "source": [
    "\n",
    "# Change algod_token and algod_address to connect to a different client\n",
    "algod_token = \"2f3203f21e738a1de6110eba6984f9d03e5a95d7a577b34616854064cf2c0e7b\"\n",
    "algod_address = \"https://academy-algod.dev.aws.algodev.network/\"\n",
    "\n",
    "algod_client = algod.AlgodClient(algod_token, algod_address)"
   ]
  },
  {
   "cell_type": "markdown",
   "metadata": {},
   "source": [
    "## Creating Asset"
   ]
  },
  {
   "cell_type": "code",
   "execution_count": 27,
   "metadata": {},
   "outputs": [
    {
     "name": "stdout",
     "output_type": "stream",
     "text": [
      "--------------------------------------------\n",
      "Creating Asset...\n"
     ]
    }
   ],
   "source": [
    "print(\"--------------------------------------------\")\n",
    "print(\"Creating Asset...\")\n",
    "# CREATE ASSET\n",
    "# Get network params for transactions before every transaction.\n",
    "params = algod_client.suggested_params()\n",
    "# comment these two lines if you want to use suggested params\n",
    "# params.fee = 1000\n",
    "# params.flat_fee = True\n",
    "    \n",
    "# JSON file\n",
    "\n",
    "f = open ('../data/aliceNFTmetadata.json', \"r\")\n",
    "\n",
    "# Reading from file\n",
    "metadataJSON = json.loads(f.read())\n",
    "metadataStr = json.dumps(metadataJSON)\n",
    "\n",
    "hash = hashlib.new(\"sha512_256\")\n",
    "hash.update(b\"arc0003/amj\")\n",
    "hash.update(metadataStr.encode(\"utf-8\"))\n",
    "json_metadata_hash = hash.digest()\n",
    "\n"
   ]
  },
  {
   "cell_type": "code",
   "execution_count": 28,
   "metadata": {},
   "outputs": [],
   "source": [
    "# Account 1 creates an asset called latinum and\n",
    "# sets Account 1 as the manager, reserve, freeze, and clawback address.\n",
    "# Asset Creation transaction\n",
    "txn = AssetConfigTxn(\n",
    "    sender=accounts[1]['pk'],\n",
    "    sp=params,\n",
    "    total=1,\n",
    "    default_frozen=False,\n",
    "    unit_name=\"ALICE001\",\n",
    "    asset_name=\"Alice's Artwork 001\",\n",
    "    manager=accounts[1]['pk'],\n",
    "    reserve=None,\n",
    "    freeze=None,\n",
    "    clawback=None,\n",
    "    strict_empty_address_check=False,\n",
    "    url=\"https://drive.google.com/file/d/1-6ArwT3cmKDOQlOr6AEocSsqIUhjc4Os/view?usp=share_link\", \n",
    "    metadata_hash=json_metadata_hash,\n",
    "    decimals=0)"
   ]
  },
  {
   "cell_type": "code",
   "execution_count": 31,
   "metadata": {},
   "outputs": [
    {
     "ename": "AlgodHTTPError",
     "evalue": "TransactionPool.Remember: transaction already in ledger: NX4RCM22Z6LDCFQFQYDIV6W3CCYEQFKYRKZEPVHENVA5DXRK762A",
     "output_type": "error",
     "traceback": [
      "\u001b[0;31m---------------------------------------------------------------------------\u001b[0m",
      "\u001b[0;31mHTTPError\u001b[0m                                 Traceback (most recent call last)",
      "File \u001b[0;32m~/TENAC/week-11-12/week12/smart-contracts-for-educational-certificates/venv/lib/python3.9/site-packages/algosdk/v2client/algod.py:82\u001b[0m, in \u001b[0;36mAlgodClient.algod_request\u001b[0;34m(self, method, requrl, params, data, headers, response_format)\u001b[0m\n\u001b[1;32m     81\u001b[0m \u001b[39mtry\u001b[39;00m:\n\u001b[0;32m---> 82\u001b[0m     resp \u001b[39m=\u001b[39m urlopen(req)\n\u001b[1;32m     83\u001b[0m \u001b[39mexcept\u001b[39;00m urllib\u001b[39m.\u001b[39merror\u001b[39m.\u001b[39mHTTPError \u001b[39mas\u001b[39;00m e:\n",
      "File \u001b[0;32m~/miniforge3/lib/python3.9/urllib/request.py:214\u001b[0m, in \u001b[0;36murlopen\u001b[0;34m(url, data, timeout, cafile, capath, cadefault, context)\u001b[0m\n\u001b[1;32m    213\u001b[0m     opener \u001b[39m=\u001b[39m _opener\n\u001b[0;32m--> 214\u001b[0m \u001b[39mreturn\u001b[39;00m opener\u001b[39m.\u001b[39;49mopen(url, data, timeout)\n",
      "File \u001b[0;32m~/miniforge3/lib/python3.9/urllib/request.py:523\u001b[0m, in \u001b[0;36mOpenerDirector.open\u001b[0;34m(self, fullurl, data, timeout)\u001b[0m\n\u001b[1;32m    522\u001b[0m     meth \u001b[39m=\u001b[39m \u001b[39mgetattr\u001b[39m(processor, meth_name)\n\u001b[0;32m--> 523\u001b[0m     response \u001b[39m=\u001b[39m meth(req, response)\n\u001b[1;32m    525\u001b[0m \u001b[39mreturn\u001b[39;00m response\n",
      "File \u001b[0;32m~/miniforge3/lib/python3.9/urllib/request.py:632\u001b[0m, in \u001b[0;36mHTTPErrorProcessor.http_response\u001b[0;34m(self, request, response)\u001b[0m\n\u001b[1;32m    631\u001b[0m \u001b[39mif\u001b[39;00m \u001b[39mnot\u001b[39;00m (\u001b[39m200\u001b[39m \u001b[39m<\u001b[39m\u001b[39m=\u001b[39m code \u001b[39m<\u001b[39m \u001b[39m300\u001b[39m):\n\u001b[0;32m--> 632\u001b[0m     response \u001b[39m=\u001b[39m \u001b[39mself\u001b[39;49m\u001b[39m.\u001b[39;49mparent\u001b[39m.\u001b[39;49merror(\n\u001b[1;32m    633\u001b[0m         \u001b[39m'\u001b[39;49m\u001b[39mhttp\u001b[39;49m\u001b[39m'\u001b[39;49m, request, response, code, msg, hdrs)\n\u001b[1;32m    635\u001b[0m \u001b[39mreturn\u001b[39;00m response\n",
      "File \u001b[0;32m~/miniforge3/lib/python3.9/urllib/request.py:561\u001b[0m, in \u001b[0;36mOpenerDirector.error\u001b[0;34m(self, proto, *args)\u001b[0m\n\u001b[1;32m    560\u001b[0m args \u001b[39m=\u001b[39m (\u001b[39mdict\u001b[39m, \u001b[39m'\u001b[39m\u001b[39mdefault\u001b[39m\u001b[39m'\u001b[39m, \u001b[39m'\u001b[39m\u001b[39mhttp_error_default\u001b[39m\u001b[39m'\u001b[39m) \u001b[39m+\u001b[39m orig_args\n\u001b[0;32m--> 561\u001b[0m \u001b[39mreturn\u001b[39;00m \u001b[39mself\u001b[39;49m\u001b[39m.\u001b[39;49m_call_chain(\u001b[39m*\u001b[39;49margs)\n",
      "File \u001b[0;32m~/miniforge3/lib/python3.9/urllib/request.py:494\u001b[0m, in \u001b[0;36mOpenerDirector._call_chain\u001b[0;34m(self, chain, kind, meth_name, *args)\u001b[0m\n\u001b[1;32m    493\u001b[0m func \u001b[39m=\u001b[39m \u001b[39mgetattr\u001b[39m(handler, meth_name)\n\u001b[0;32m--> 494\u001b[0m result \u001b[39m=\u001b[39m func(\u001b[39m*\u001b[39;49margs)\n\u001b[1;32m    495\u001b[0m \u001b[39mif\u001b[39;00m result \u001b[39mis\u001b[39;00m \u001b[39mnot\u001b[39;00m \u001b[39mNone\u001b[39;00m:\n",
      "File \u001b[0;32m~/miniforge3/lib/python3.9/urllib/request.py:641\u001b[0m, in \u001b[0;36mHTTPDefaultErrorHandler.http_error_default\u001b[0;34m(self, req, fp, code, msg, hdrs)\u001b[0m\n\u001b[1;32m    640\u001b[0m \u001b[39mdef\u001b[39;00m \u001b[39mhttp_error_default\u001b[39m(\u001b[39mself\u001b[39m, req, fp, code, msg, hdrs):\n\u001b[0;32m--> 641\u001b[0m     \u001b[39mraise\u001b[39;00m HTTPError(req\u001b[39m.\u001b[39mfull_url, code, msg, hdrs, fp)\n",
      "\u001b[0;31mHTTPError\u001b[0m: HTTP Error 400: Bad Request",
      "\nDuring handling of the above exception, another exception occurred:\n",
      "\u001b[0;31mAlgodHTTPError\u001b[0m                            Traceback (most recent call last)",
      "Cell \u001b[0;32mIn [31], line 5\u001b[0m\n\u001b[1;32m      2\u001b[0m stxn \u001b[39m=\u001b[39m txn\u001b[39m.\u001b[39msign(accounts[\u001b[39m1\u001b[39m][\u001b[39m'\u001b[39m\u001b[39msk\u001b[39m\u001b[39m'\u001b[39m])\n\u001b[1;32m      4\u001b[0m \u001b[39m# Send the transaction to the network and retrieve the txid.\u001b[39;00m\n\u001b[0;32m----> 5\u001b[0m txid \u001b[39m=\u001b[39m algod_client\u001b[39m.\u001b[39;49msend_transaction(stxn)\n\u001b[1;32m      6\u001b[0m \u001b[39mprint\u001b[39m(\u001b[39m\"\u001b[39m\u001b[39mAsset Creation Transaction ID: \u001b[39m\u001b[39m{}\u001b[39;00m\u001b[39m\"\u001b[39m\u001b[39m.\u001b[39mformat(txid))\n\u001b[1;32m      8\u001b[0m \u001b[39m# Wait for the transaction to be confirmed\u001b[39;00m\n",
      "File \u001b[0;32m~/TENAC/week-11-12/week12/smart-contracts-for-educational-certificates/venv/lib/python3.9/site-packages/algosdk/v2client/algod.py:214\u001b[0m, in \u001b[0;36mAlgodClient.send_transaction\u001b[0;34m(self, txn, **kwargs)\u001b[0m\n\u001b[1;32m    201\u001b[0m \u001b[39m\"\"\"\u001b[39;00m\n\u001b[1;32m    202\u001b[0m \u001b[39mBroadcast a signed transaction object to the network.\u001b[39;00m\n\u001b[1;32m    203\u001b[0m \n\u001b[0;32m   (...)\u001b[0m\n\u001b[1;32m    209\u001b[0m \u001b[39m    str: transaction ID\u001b[39;00m\n\u001b[1;32m    210\u001b[0m \u001b[39m\"\"\"\u001b[39;00m\n\u001b[1;32m    211\u001b[0m \u001b[39massert\u001b[39;00m \u001b[39mnot\u001b[39;00m \u001b[39misinstance\u001b[39m(\n\u001b[1;32m    212\u001b[0m     txn, future\u001b[39m.\u001b[39mtransaction\u001b[39m.\u001b[39mTransaction\n\u001b[1;32m    213\u001b[0m ), \u001b[39m\"\u001b[39m\u001b[39mAttempt to send UNSIGNED transaction \u001b[39m\u001b[39m{}\u001b[39;00m\u001b[39m\"\u001b[39m\u001b[39m.\u001b[39mformat(txn)\n\u001b[0;32m--> 214\u001b[0m \u001b[39mreturn\u001b[39;00m \u001b[39mself\u001b[39;49m\u001b[39m.\u001b[39;49msend_raw_transaction(\n\u001b[1;32m    215\u001b[0m     encoding\u001b[39m.\u001b[39;49mmsgpack_encode(txn), \u001b[39m*\u001b[39;49m\u001b[39m*\u001b[39;49mkwargs\n\u001b[1;32m    216\u001b[0m )\n",
      "File \u001b[0;32m~/TENAC/week-11-12/week12/smart-contracts-for-educational-certificates/venv/lib/python3.9/site-packages/algosdk/v2client/algod.py:237\u001b[0m, in \u001b[0;36mAlgodClient.send_raw_transaction\u001b[0;34m(self, txn, **kwargs)\u001b[0m\n\u001b[1;32m    231\u001b[0m headers \u001b[39m=\u001b[39m util\u001b[39m.\u001b[39mbuild_headers_from(\n\u001b[1;32m    232\u001b[0m     kwargs\u001b[39m.\u001b[39mget(\u001b[39m\"\u001b[39m\u001b[39mheaders\u001b[39m\u001b[39m\"\u001b[39m, \u001b[39mFalse\u001b[39;00m),\n\u001b[1;32m    233\u001b[0m     {\u001b[39m\"\u001b[39m\u001b[39mContent-Type\u001b[39m\u001b[39m\"\u001b[39m: \u001b[39m\"\u001b[39m\u001b[39mapplication/x-binary\u001b[39m\u001b[39m\"\u001b[39m},\n\u001b[1;32m    234\u001b[0m )\n\u001b[1;32m    235\u001b[0m kwargs[\u001b[39m\"\u001b[39m\u001b[39mheaders\u001b[39m\u001b[39m\"\u001b[39m] \u001b[39m=\u001b[39m headers\n\u001b[0;32m--> 237\u001b[0m \u001b[39mreturn\u001b[39;00m \u001b[39mself\u001b[39;49m\u001b[39m.\u001b[39;49malgod_request(\u001b[39m\"\u001b[39;49m\u001b[39mPOST\u001b[39;49m\u001b[39m\"\u001b[39;49m, req, data\u001b[39m=\u001b[39;49mtxn, \u001b[39m*\u001b[39;49m\u001b[39m*\u001b[39;49mkwargs)[\u001b[39m\"\u001b[39m\u001b[39mtxId\u001b[39m\u001b[39m\"\u001b[39m]\n",
      "File \u001b[0;32m~/TENAC/week-11-12/week12/smart-contracts-for-educational-certificates/venv/lib/python3.9/site-packages/algosdk/v2client/algod.py:89\u001b[0m, in \u001b[0;36mAlgodClient.algod_request\u001b[0;34m(self, method, requrl, params, data, headers, response_format)\u001b[0m\n\u001b[1;32m     87\u001b[0m         e \u001b[39m=\u001b[39m json\u001b[39m.\u001b[39mloads(e)[\u001b[39m\"\u001b[39m\u001b[39mmessage\u001b[39m\u001b[39m\"\u001b[39m]\n\u001b[1;32m     88\u001b[0m     \u001b[39mfinally\u001b[39;00m:\n\u001b[0;32m---> 89\u001b[0m         \u001b[39mraise\u001b[39;00m error\u001b[39m.\u001b[39mAlgodHTTPError(e, code)\n\u001b[1;32m     90\u001b[0m \u001b[39mif\u001b[39;00m response_format \u001b[39m==\u001b[39m \u001b[39m\"\u001b[39m\u001b[39mjson\u001b[39m\u001b[39m\"\u001b[39m:\n\u001b[1;32m     91\u001b[0m     \u001b[39mtry\u001b[39;00m:\n",
      "\u001b[0;31mAlgodHTTPError\u001b[0m: TransactionPool.Remember: transaction already in ledger: NX4RCM22Z6LDCFQFQYDIV6W3CCYEQFKYRKZEPVHENVA5DXRK762A"
     ]
    }
   ],
   "source": [
    "# Sign with secret key of creator\n",
    "stxn = txn.sign(accounts[1]['sk'])\n",
    "\n",
    "# Send the transaction to the network and retrieve the txid.\n",
    "txid = algod_client.send_transaction(stxn)\n",
    "print(\"Asset Creation Transaction ID: {}\".format(txid))\n",
    "\n",
    "# Wait for the transaction to be confirmed\n",
    "confirmed_txn = wait_for_confirmation(algod_client, txid, 4)  \n",
    "print(\"TXID: \", txid)\n",
    "print(\"Result confirmed in round: {}\".format(confirmed_txn['confirmed-round']))"
   ]
  },
  {
   "cell_type": "code",
   "execution_count": 32,
   "metadata": {},
   "outputs": [
    {
     "name": "stdout",
     "output_type": "stream",
     "text": [
      "Asset ID: 121857210\n",
      "{\n",
      "    \"creator\": \"3EVANIMZYTOSPMHNAGBBQNZH5T5HV227WDEVOEXWCLWEAQEPWZOUY6GTBU\",\n",
      "    \"decimals\": 0,\n",
      "    \"default-frozen\": false,\n",
      "    \"manager\": \"3EVANIMZYTOSPMHNAGBBQNZH5T5HV227WDEVOEXWCLWEAQEPWZOUY6GTBU\",\n",
      "    \"metadata-hash\": \"37CTiMgb3r5KYFovNOciUwfrMbgFMFmFXRSXRr0xVPo=\",\n",
      "    \"name\": \"Alice's Artwork 001\",\n",
      "    \"name-b64\": \"QWxpY2UncyBBcnR3b3JrIDAwMQ==\",\n",
      "    \"total\": 1,\n",
      "    \"unit-name\": \"ALICE001\",\n",
      "    \"unit-name-b64\": \"QUxJQ0UwMDE=\",\n",
      "    \"url\": \"https://drive.google.com/file/d/1-6ArwT3cmKDOQlOr6AEocSsqIUhjc4Os/view?usp=share_link\",\n",
      "    \"url-b64\": \"aHR0cHM6Ly9kcml2ZS5nb29nbGUuY29tL2ZpbGUvZC8xLTZBcndUM2NtS0RPUWxPcjZBRW9jU3NxSVVoamM0T3Mvdmlldz91c3A9c2hhcmVfbGluaw==\"\n",
      "}\n",
      "Asset ID: 121857210\n",
      "{\n",
      "    \"amount\": 1,\n",
      "    \"asset-id\": 121857210,\n",
      "    \"is-frozen\": false\n",
      "}\n",
      "--------------------------------------------\n",
      "You have successfully created your own Non-fungible token! For the purpose of the demo, we will now delete the asset.\n",
      "Deleting Asset...\n"
     ]
    }
   ],
   "source": [
    "try:\n",
    "    # Pull account info for the creator\n",
    "    # account_info = algod_client.account_info(accounts[1]['pk'])\n",
    "    # get asset_id from tx\n",
    "    # Get the new asset's information from the creator account\n",
    "    ptx = algod_client.pending_transaction_info(txid)\n",
    "    asset_id = ptx[\"asset-index\"]\n",
    "    print_created_asset(algod_client, accounts[1]['pk'], asset_id)\n",
    "    print_asset_holding(algod_client, accounts[1]['pk'], asset_id)\n",
    "except Exception as e:\n",
    "    print(e)\n",
    "\n",
    "print(\"--------------------------------------------\")\n",
    "print(\"You have successfully created your own Non-fungible token! For the purpose of the demo, we will now delete the asset.\")\n",
    "print(\"Deleting Asset...\")"
   ]
  },
  {
   "cell_type": "code",
   "execution_count": 19,
   "metadata": {},
   "outputs": [
    {
     "name": "stdout",
     "output_type": "stream",
     "text": [
      "Asset Destroy Transaction ID: GR4WHDRYV5YD46IUI24GHPLZFR3BFLVIILYKZCBQDHFMCD2K4BXQ\n",
      "TXID:  GR4WHDRYV5YD46IUI24GHPLZFR3BFLVIILYKZCBQDHFMCD2K4BXQ\n",
      "Result confirmed in round: 25439606\n",
      "Asset is deleted.\n",
      "--------------------------------------------\n",
      "Sending closeout transaction back to the testnet dispenser...\n",
      "--------------------------------------------\n",
      "Closing out account......\n",
      "Transaction Info:\n",
      "Signed transaction with txID: Z73TNLLXUADTSYENPJDD3EUNR5WU32RTK2ZZC7XITYHEFQMWRDXA\n",
      "TXID:  Z73TNLLXUADTSYENPJDD3EUNR5WU32RTK2ZZC7XITYHEFQMWRDXA\n",
      "Result confirmed in round: 25439609\n",
      "Account balance: 0 microAlgos\n",
      "\n",
      "Account Closed\n"
     ]
    }
   ],
   "source": [
    "# Asset destroy transaction\n",
    "txn = AssetConfigTxn(\n",
    "    sender=accounts[1]['pk'],\n",
    "    sp=params,\n",
    "    index=asset_id,\n",
    "    strict_empty_address_check=False\n",
    "    )\n",
    "\n",
    "# Sign with secret key of creator\n",
    "stxn = txn.sign(accounts[1]['sk'])\n",
    "# Send the transaction to the network and retrieve the txid.\n",
    "txid = algod_client.send_transaction(stxn)\n",
    "print(\"Asset Destroy Transaction ID: {}\".format(txid))\n",
    "\n",
    "# Wait for the transaction to be confirmed\n",
    "confirmed_txn = wait_for_confirmation(algod_client, txid, 4)  \n",
    "print(\"TXID: \", txid)\n",
    "print(\"Result confirmed in round: {}\".format(confirmed_txn['confirmed-round']))\n",
    "# Asset was deleted.\n",
    "try:\n",
    "    print_asset_holding(algod_client, accounts[1]['pk'], asset_id)\n",
    "    print_created_asset(algod_client, accounts[1]['pk'], asset_id)\n",
    "    print(\"Asset is deleted.\")\n",
    "except Exception as e:\n",
    "    print(e)\n",
    "\n",
    "print(\"--------------------------------------------\")\n",
    "print(\"Sending closeout transaction back to the testnet dispenser...\")\n",
    "closeout_account(algod_client, accounts[1] )\n"
   ]
  },
  {
   "cell_type": "code",
   "execution_count": 35,
   "metadata": {},
   "outputs": [
    {
     "name": "stdout",
     "output_type": "stream",
     "text": [
      "{'address': '3EVANIMZYTOSPMHNAGBBQNZH5T5HV227WDEVOEXWCLWEAQEPWZOUY6GTBU', 'amount': 4999000, 'amount-without-pending-rewards': 4999000, 'apps-local-state': [], 'apps-total-schema': {'num-byte-slice': 0, 'num-uint': 0}, 'assets': [{'amount': 1, 'asset-id': 121857210, 'is-frozen': False}], 'created-apps': [], 'created-assets': [{'index': 121857210, 'params': {'creator': '3EVANIMZYTOSPMHNAGBBQNZH5T5HV227WDEVOEXWCLWEAQEPWZOUY6GTBU', 'decimals': 0, 'default-frozen': False, 'manager': '3EVANIMZYTOSPMHNAGBBQNZH5T5HV227WDEVOEXWCLWEAQEPWZOUY6GTBU', 'metadata-hash': '37CTiMgb3r5KYFovNOciUwfrMbgFMFmFXRSXRr0xVPo=', 'name': \"Alice's Artwork 001\", 'name-b64': 'QWxpY2UncyBBcnR3b3JrIDAwMQ==', 'total': 1, 'unit-name': 'ALICE001', 'unit-name-b64': 'QUxJQ0UwMDE=', 'url': 'https://drive.google.com/file/d/1-6ArwT3cmKDOQlOr6AEocSsqIUhjc4Os/view?usp=share_link', 'url-b64': 'aHR0cHM6Ly9kcml2ZS5nb29nbGUuY29tL2ZpbGUvZC8xLTZBcndUM2NtS0RPUWxPcjZBRW9jU3NxSVVoamM0T3Mvdmlldz91c3A9c2hhcmVfbGluaw=='}}], 'min-balance': 200000, 'pending-rewards': 0, 'reward-base': 27521, 'rewards': 0, 'round': 25442651, 'status': 'Offline', 'total-apps-opted-in': 0, 'total-assets-opted-in': 1, 'total-created-apps': 0, 'total-created-assets': 1}\n"
     ]
    }
   ],
   "source": [
    "# Change algod_token and algod_address to connect to a different client\n",
    "algod_token = \"2f3203f21e738a1de6110eba6984f9d03e5a95d7a577b34616854064cf2c0e7b\"\n",
    "algod_address = \"https://academy-algod.dev.aws.algodev.network/\"\n",
    "\n",
    "algod_client = algod.AlgodClient(algod_token, algod_address)\n",
    "account_info = algod_client.account_info('3EVANIMZYTOSPMHNAGBBQNZH5T5HV227WDEVOEXWCLWEAQEPWZOUY6GTBU')\n",
    "idx = 0\n",
    "assetid = 121850449\n",
    "for my_account_info in account_info['assets']:\n",
    "    scrutinized_asset = account_info['assets'][idx]\n",
    "    print(account_info)\n",
    "    idx = idx + 1        \n",
    "    if (scrutinized_asset['asset-id'] == assetid):\n",
    "        print(\"Asset ID: {}\".format(scrutinized_asset['asset-id']))\n",
    "        print(json.dumps(scrutinized_asset, indent=4))\n",
    "        print(\"URL: {}\".format(account_info['created-assets'][0]['params']['url']))\n",
    "        break"
   ]
  }
 ],
 "metadata": {
  "kernelspec": {
   "display_name": "Python 3.9.7 ('venv': venv)",
   "language": "python",
   "name": "python3"
  },
  "language_info": {
   "codemirror_mode": {
    "name": "ipython",
    "version": 3
   },
   "file_extension": ".py",
   "mimetype": "text/x-python",
   "name": "python",
   "nbconvert_exporter": "python",
   "pygments_lexer": "ipython3",
   "version": "3.9.7"
  },
  "orig_nbformat": 4,
  "vscode": {
   "interpreter": {
    "hash": "ddb0c29e66dd8476ff85930aa4a5bdf365c550521f107110109657273c44a45a"
   }
  }
 },
 "nbformat": 4,
 "nbformat_minor": 2
}
